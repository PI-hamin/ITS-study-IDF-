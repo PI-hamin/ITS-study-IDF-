{
  "nbformat": 4,
  "nbformat_minor": 0,
  "metadata": {
    "colab": {
      "name": "report01.ipynb",
      "provenance": [],
      "collapsed_sections": [],
      "toc_visible": true,
      "authorship_tag": "ABX9TyNFavCAuU2Yaa4UHy//aCLS",
      "include_colab_link": true
    },
    "kernelspec": {
      "name": "python3",
      "display_name": "Python 3"
    },
    "language_info": {
      "name": "python"
    }
  },
  "cells": [
    {
      "cell_type": "markdown",
      "metadata": {
        "id": "view-in-github",
        "colab_type": "text"
      },
      "source": [
        "<a href=\"https://colab.research.google.com/github/PI-hamin/ITS-study-IDF-/blob/main/report01.ipynb\" target=\"_parent\"><img src=\"https://colab.research.google.com/assets/colab-badge.svg\" alt=\"Open In Colab\"/></a>"
      ]
    },
    {
      "cell_type": "markdown",
      "metadata": {
        "id": "5Ocfoh0CwHdN"
      },
      "source": [
        "# 02-1숫자형  실습"
      ]
    },
    {
      "cell_type": "code",
      "metadata": {
        "id": "gEPmxelIpSq2"
      },
      "source": [
        "a=1.2"
      ],
      "execution_count": null,
      "outputs": []
    },
    {
      "cell_type": "code",
      "metadata": {
        "colab": {
          "base_uri": "https://localhost:8080/"
        },
        "id": "XpcSRtl_pWtb",
        "outputId": "6dc0444e-ac83-4ffe-eb1b-ab7e36c3780f"
      },
      "source": [
        "a"
      ],
      "execution_count": null,
      "outputs": [
        {
          "output_type": "execute_result",
          "data": {
            "text/plain": [
              "1.2"
            ]
          },
          "metadata": {},
          "execution_count": 3
        }
      ]
    },
    {
      "cell_type": "code",
      "metadata": {
        "id": "SF3t1B8EpXeS"
      },
      "source": [
        "# 8진수\n",
        "a=0o177"
      ],
      "execution_count": null,
      "outputs": []
    },
    {
      "cell_type": "code",
      "metadata": {
        "colab": {
          "base_uri": "https://localhost:8080/"
        },
        "id": "CCS8DINOphNk",
        "outputId": "b4b91e3e-44c0-46b0-8d7e-30915111ff94"
      },
      "source": [
        "a"
      ],
      "execution_count": null,
      "outputs": [
        {
          "output_type": "execute_result",
          "data": {
            "text/plain": [
              "127"
            ]
          },
          "metadata": {},
          "execution_count": 7
        }
      ]
    },
    {
      "cell_type": "code",
      "metadata": {
        "id": "JNXUyjKKpiEb"
      },
      "source": [
        "#16진수\n",
        "a=0x8ff\n",
        "b=0xABC"
      ],
      "execution_count": null,
      "outputs": []
    },
    {
      "cell_type": "code",
      "metadata": {
        "colab": {
          "base_uri": "https://localhost:8080/"
        },
        "id": "2E6qUYUcpwhS",
        "outputId": "341a295a-a963-43b2-edfa-924395f28a28"
      },
      "source": [
        "a,b"
      ],
      "execution_count": null,
      "outputs": [
        {
          "output_type": "execute_result",
          "data": {
            "text/plain": [
              "(2303, 2748)"
            ]
          },
          "metadata": {},
          "execution_count": 9
        }
      ]
    },
    {
      "cell_type": "code",
      "metadata": {
        "id": "2AC1yl_Qpxij"
      },
      "source": [
        "# 사칙연산\n",
        "a=3\n",
        "b=4"
      ],
      "execution_count": null,
      "outputs": []
    },
    {
      "cell_type": "code",
      "metadata": {
        "colab": {
          "base_uri": "https://localhost:8080/"
        },
        "id": "dp_2Nn_6p7r6",
        "outputId": "bb5fdd5a-83de-494c-c6b8-bb6bc2a9e00b"
      },
      "source": [
        "a+b , a*b, a/b"
      ],
      "execution_count": null,
      "outputs": [
        {
          "output_type": "execute_result",
          "data": {
            "text/plain": [
              "(7, 12, 0.75)"
            ]
          },
          "metadata": {},
          "execution_count": 12
        }
      ]
    },
    {
      "cell_type": "code",
      "metadata": {
        "id": "ee8qZxtzqF5T"
      },
      "source": [
        "# x 와 Y의 제곱\n",
        "a=3; b=4; "
      ],
      "execution_count": null,
      "outputs": []
    },
    {
      "cell_type": "code",
      "metadata": {
        "colab": {
          "base_uri": "https://localhost:8080/"
        },
        "id": "SU963yNlqOVT",
        "outputId": "4808aedb-c278-4e0b-f9e2-fda6885e8a2e"
      },
      "source": [
        "a**b"
      ],
      "execution_count": null,
      "outputs": [
        {
          "output_type": "execute_result",
          "data": {
            "text/plain": [
              "81"
            ]
          },
          "metadata": {},
          "execution_count": 16
        }
      ]
    },
    {
      "cell_type": "code",
      "metadata": {
        "colab": {
          "base_uri": "https://localhost:8080/"
        },
        "id": "86PJyQmIqVaD",
        "outputId": "9a246a30-0f34-4b45-ebd7-661e40c2dc15"
      },
      "source": [
        "# 나눗셈 후 몫을 변환하는 연산자\n",
        "7%3"
      ],
      "execution_count": null,
      "outputs": [
        {
          "output_type": "execute_result",
          "data": {
            "text/plain": [
              "1"
            ]
          },
          "metadata": {},
          "execution_count": 20
        }
      ]
    },
    {
      "cell_type": "code",
      "metadata": {
        "colab": {
          "base_uri": "https://localhost:8080/"
        },
        "id": "UIJZqyfZqyyb",
        "outputId": "c82e3850-3171-46ea-eff7-e928d9cb8b69"
      },
      "source": [
        "#나눗셈 후 몫을 반환하는 연산자 \n",
        "7/4"
      ],
      "execution_count": null,
      "outputs": [
        {
          "output_type": "execute_result",
          "data": {
            "text/plain": [
              "1.75"
            ]
          },
          "metadata": {},
          "execution_count": 21
        }
      ]
    },
    {
      "cell_type": "markdown",
      "metadata": {
        "id": "cVHRPQBAkePc"
      },
      "source": [
        "# 02-2 문자열 자료형"
      ]
    },
    {
      "cell_type": "code",
      "metadata": {
        "colab": {
          "base_uri": "https://localhost:8080/",
          "height": 35
        },
        "id": "BCKFAcrcrCej",
        "outputId": "523ad7cc-251a-4055-db9c-cc66438e2e65"
      },
      "source": [
        "\"hello word\""
      ],
      "execution_count": null,
      "outputs": [
        {
          "output_type": "execute_result",
          "data": {
            "application/vnd.google.colaboratory.intrinsic+json": {
              "type": "string"
            },
            "text/plain": [
              "'hello word'"
            ]
          },
          "metadata": {},
          "execution_count": 23
        }
      ]
    },
    {
      "cell_type": "code",
      "metadata": {
        "colab": {
          "base_uri": "https://localhost:8080/",
          "height": 35
        },
        "id": "CysrC8K8rNxz",
        "outputId": "810e8fdc-0a8c-4334-f94e-1f53c4a13c80"
      },
      "source": [
        "'python is fun'"
      ],
      "execution_count": null,
      "outputs": [
        {
          "output_type": "execute_result",
          "data": {
            "application/vnd.google.colaboratory.intrinsic+json": {
              "type": "string"
            },
            "text/plain": [
              "'python is fun'"
            ]
          },
          "metadata": {},
          "execution_count": 24
        }
      ]
    },
    {
      "cell_type": "code",
      "metadata": {
        "colab": {
          "base_uri": "https://localhost:8080/",
          "height": 35
        },
        "id": "M1lWcu9nrP1T",
        "outputId": "5694bd6f-4d81-45ab-c95d-ee838fcb044c"
      },
      "source": [
        "\"\"\"Life is too short, you need python\"\"\""
      ],
      "execution_count": null,
      "outputs": [
        {
          "output_type": "execute_result",
          "data": {
            "application/vnd.google.colaboratory.intrinsic+json": {
              "type": "string"
            },
            "text/plain": [
              "'Life is too short, you need python'"
            ]
          },
          "metadata": {},
          "execution_count": 25
        }
      ]
    },
    {
      "cell_type": "code",
      "metadata": {
        "colab": {
          "base_uri": "https://localhost:8080/",
          "height": 35
        },
        "id": "0_5EOPTcrWNK",
        "outputId": "8d4c3817-9049-42c4-8aad-d6cbc94b61ba"
      },
      "source": [
        "'''Life is too short, you need python'''"
      ],
      "execution_count": null,
      "outputs": [
        {
          "output_type": "execute_result",
          "data": {
            "application/vnd.google.colaboratory.intrinsic+json": {
              "type": "string"
            },
            "text/plain": [
              "'Life is too short, you need python'"
            ]
          },
          "metadata": {},
          "execution_count": 26
        }
      ]
    },
    {
      "cell_type": "code",
      "metadata": {
        "id": "4wO9fWw0reJV"
      },
      "source": [
        "# 문자열에 작은따옴표 (') 포함시키기 \n",
        "food = \"python's favorite food is perl\""
      ],
      "execution_count": null,
      "outputs": []
    },
    {
      "cell_type": "code",
      "metadata": {
        "colab": {
          "base_uri": "https://localhost:8080/",
          "height": 35
        },
        "id": "C6ddxm8mryDT",
        "outputId": "58315f55-ff00-44e7-bcf3-5ec1ced29ab8"
      },
      "source": [
        "food"
      ],
      "execution_count": null,
      "outputs": [
        {
          "output_type": "execute_result",
          "data": {
            "application/vnd.google.colaboratory.intrinsic+json": {
              "type": "string"
            },
            "text/plain": [
              "\"python's favorite food is perl\""
            ]
          },
          "metadata": {},
          "execution_count": 28
        }
      ]
    },
    {
      "cell_type": "code",
      "metadata": {
        "id": "rKqfTMxzrzEE"
      },
      "source": [
        "#문자열에 큰따옴표 (\") 포함시키기\n",
        "say = '\"Python is very easy.\" he says.'"
      ],
      "execution_count": null,
      "outputs": []
    },
    {
      "cell_type": "code",
      "metadata": {
        "colab": {
          "base_uri": "https://localhost:8080/",
          "height": 35
        },
        "id": "mnYMAlA3sFNL",
        "outputId": "11f5ba81-a8e2-4ed2-a1d2-67810dc79f36"
      },
      "source": [
        "say"
      ],
      "execution_count": null,
      "outputs": [
        {
          "output_type": "execute_result",
          "data": {
            "application/vnd.google.colaboratory.intrinsic+json": {
              "type": "string"
            },
            "text/plain": [
              "'\"Python is very easy.\" he says.'"
            ]
          },
          "metadata": {},
          "execution_count": 30
        }
      ]
    },
    {
      "cell_type": "code",
      "metadata": {
        "id": "kmOMoPwisF4T"
      },
      "source": [
        "# 백슬래시(\\)를 사용해서 작은따옴표(')와 큰따옴표(\")를 문자열에 포함시키기\n",
        "food = 'Python\\'s favorite food is perl'\n",
        "say = \"\\\"Python is very easy.\\\" he says.\""
      ],
      "execution_count": null,
      "outputs": []
    },
    {
      "cell_type": "code",
      "metadata": {
        "colab": {
          "base_uri": "https://localhost:8080/"
        },
        "id": "n97UlVTesX5j",
        "outputId": "70f91fb9-68ae-4d78-c613-8334008ed152"
      },
      "source": [
        "print (food)\n",
        "print (say)"
      ],
      "execution_count": null,
      "outputs": [
        {
          "output_type": "stream",
          "name": "stdout",
          "text": [
            "Python's favorite food is perl\n",
            "\"Python is very easy.\" he says.\n"
          ]
        }
      ]
    },
    {
      "cell_type": "code",
      "metadata": {
        "id": "v6UWefkysaAy"
      },
      "source": [
        "#줄을 바꾸기 위한 이스케이프 코드 \\n 삽입하기\n",
        "multiline = \"Life is too short\\nYou need python\""
      ],
      "execution_count": null,
      "outputs": []
    },
    {
      "cell_type": "code",
      "metadata": {
        "colab": {
          "base_uri": "https://localhost:8080/",
          "height": 35
        },
        "id": "SKI8MrfDsoh7",
        "outputId": "d37970f7-dc32-4856-91e0-30e7274f25fe"
      },
      "source": [
        "multiline"
      ],
      "execution_count": null,
      "outputs": [
        {
          "output_type": "execute_result",
          "data": {
            "application/vnd.google.colaboratory.intrinsic+json": {
              "type": "string"
            },
            "text/plain": [
              "'Life is too short\\nYou need python'"
            ]
          },
          "metadata": {},
          "execution_count": 42
        }
      ]
    },
    {
      "cell_type": "code",
      "metadata": {
        "colab": {
          "base_uri": "https://localhost:8080/"
        },
        "id": "NAs1ZncHssci",
        "outputId": "2def512d-017d-4807-f692-49f2f2bdf595"
      },
      "source": [
        "print (multiline)"
      ],
      "execution_count": null,
      "outputs": [
        {
          "output_type": "stream",
          "name": "stdout",
          "text": [
            "Life is too short\n",
            "You need python\n"
          ]
        }
      ]
    },
    {
      "cell_type": "code",
      "metadata": {
        "id": "5fxCga9gthDC"
      },
      "source": [
        "# 문자열 더해서 연결하기 \n",
        "head = 'Python'\n",
        "tail = 'is fun'"
      ],
      "execution_count": null,
      "outputs": []
    },
    {
      "cell_type": "code",
      "metadata": {
        "colab": {
          "base_uri": "https://localhost:8080/",
          "height": 35
        },
        "id": "BmvN_RcluAPL",
        "outputId": "23b0a89f-a7c6-4f85-f721-2678a0eca94d"
      },
      "source": [
        "head + tail"
      ],
      "execution_count": null,
      "outputs": [
        {
          "output_type": "execute_result",
          "data": {
            "application/vnd.google.colaboratory.intrinsic+json": {
              "type": "string"
            },
            "text/plain": [
              "'Pythonis fun'"
            ]
          },
          "metadata": {},
          "execution_count": 53
        }
      ]
    },
    {
      "cell_type": "code",
      "metadata": {
        "colab": {
          "base_uri": "https://localhost:8080/"
        },
        "id": "K3I-LoN0uBpb",
        "outputId": "f58d4dc5-66f4-4c2c-ef55-d670dd9ee426"
      },
      "source": [
        "#문자열 곱하기 \n",
        "head = 'Python';\n",
        "b= head*2;\n",
        "print (b);"
      ],
      "execution_count": null,
      "outputs": [
        {
          "output_type": "stream",
          "name": "stdout",
          "text": [
            "PythonPython\n"
          ]
        }
      ]
    },
    {
      "cell_type": "code",
      "metadata": {
        "colab": {
          "base_uri": "https://localhost:8080/"
        },
        "id": "UI7qDC7VufPD",
        "outputId": "26337431-aed9-4707-8175-81f71ee5f23d"
      },
      "source": [
        "# 문자열 길이 구하기 \n",
        "a = \"Life is good\";\n",
        "b=len(a);\n",
        "print (b);"
      ],
      "execution_count": null,
      "outputs": [
        {
          "output_type": "stream",
          "name": "stdout",
          "text": [
            "12\n"
          ]
        }
      ]
    },
    {
      "cell_type": "code",
      "metadata": {
        "colab": {
          "base_uri": "https://localhost:8080/"
        },
        "id": "S1XITjndu2HM",
        "outputId": "e07356ad-b1cd-45eb-a2ef-ab9f9e9a408f"
      },
      "source": [
        "#문자열 인덱싱 슬라이싱\n",
        "a=\"life is too short, you need C++ \";\n",
        "b=a[3];\n",
        "print (b);"
      ],
      "execution_count": null,
      "outputs": [
        {
          "output_type": "stream",
          "name": "stdout",
          "text": [
            "e\n"
          ]
        }
      ]
    },
    {
      "cell_type": "code",
      "metadata": {
        "colab": {
          "base_uri": "https://localhost:8080/"
        },
        "id": "Vm9eAtJbvQtT",
        "outputId": "dfbc555a-5046-46e8-8c78-c65e915335d2"
      },
      "source": [
        "b= a[0] + a[1]+a[2]+a[3];\n",
        "print (b);"
      ],
      "execution_count": null,
      "outputs": [
        {
          "output_type": "stream",
          "name": "stdout",
          "text": [
            "life\n"
          ]
        }
      ]
    },
    {
      "cell_type": "code",
      "metadata": {
        "colab": {
          "base_uri": "https://localhost:8080/"
        },
        "id": "0gV5kZKVvhu0",
        "outputId": "87122e6d-7a3e-4735-91f5-36e356f53c05"
      },
      "source": [
        "b=a[0:4];\n",
        "print (b);"
      ],
      "execution_count": null,
      "outputs": [
        {
          "output_type": "stream",
          "name": "stdout",
          "text": [
            "life\n"
          ]
        }
      ]
    },
    {
      "cell_type": "code",
      "metadata": {
        "colab": {
          "base_uri": "https://localhost:8080/"
        },
        "id": "8JLHefoNwkxD",
        "outputId": "897a02c5-4a70-401f-a826-e7a7dd7d59e7"
      },
      "source": [
        "b=a[19:];\n",
        "print (b);"
      ],
      "execution_count": null,
      "outputs": [
        {
          "output_type": "stream",
          "name": "stdout",
          "text": [
            "you need C++ \n"
          ]
        }
      ]
    },
    {
      "cell_type": "code",
      "metadata": {
        "colab": {
          "base_uri": "https://localhost:8080/"
        },
        "id": "ncljJKcywyoc",
        "outputId": "7812874b-44da-4901-f9c9-4db0be53ea95"
      },
      "source": [
        "b=a[:];\n",
        "print (b);"
      ],
      "execution_count": null,
      "outputs": [
        {
          "output_type": "stream",
          "name": "stdout",
          "text": [
            "life is too short, you need C++ \n"
          ]
        }
      ]
    },
    {
      "cell_type": "code",
      "metadata": {
        "colab": {
          "base_uri": "https://localhost:8080/"
        },
        "id": "aRDqgzujw1u6",
        "outputId": "43e11c35-c9ce-4373-c5f5-5180554d6868"
      },
      "source": [
        "b=a[19:-7];\n",
        "print (b);"
      ],
      "execution_count": null,
      "outputs": [
        {
          "output_type": "stream",
          "name": "stdout",
          "text": [
            "you ne\n"
          ]
        }
      ]
    },
    {
      "cell_type": "code",
      "metadata": {
        "colab": {
          "base_uri": "https://localhost:8080/"
        },
        "id": "DJzCIjLxw4pL",
        "outputId": "3e1fca31-157d-41c9-ead2-c644bf98923c"
      },
      "source": [
        "# 슬라이싱으로 문자열 나누기 \n",
        "a= \"200010331windy\";\n",
        "date = a[:8];\n",
        "weather = a[9:];\n",
        "print (date);\n",
        "print (weather);"
      ],
      "execution_count": null,
      "outputs": [
        {
          "output_type": "stream",
          "name": "stdout",
          "text": [
            "20001033\n",
            "windy\n"
          ]
        }
      ]
    },
    {
      "cell_type": "code",
      "metadata": {
        "colab": {
          "base_uri": "https://localhost:8080/"
        },
        "id": "5MGfySDPxN2u",
        "outputId": "32598bc3-09fa-4fb2-d0d7-3f61cc2678c7"
      },
      "source": [
        "# 문자열 pithon 을 python 으로 바꾸기 \n",
        "a= 'pithon';\n",
        "print (a[1]);"
      ],
      "execution_count": null,
      "outputs": [
        {
          "output_type": "stream",
          "name": "stdout",
          "text": [
            "i\n"
          ]
        }
      ]
    },
    {
      "cell_type": "code",
      "metadata": {
        "colab": {
          "base_uri": "https://localhost:8080/",
          "height": 35
        },
        "id": "-FLU3t66xytc",
        "outputId": "01d5914a-b10d-46c7-9ce5-6f909e09f803"
      },
      "source": [
        "# 문자열 포메팅 따라하기\n",
        "\"I eat %d apple.\"%3"
      ],
      "execution_count": null,
      "outputs": [
        {
          "output_type": "execute_result",
          "data": {
            "application/vnd.google.colaboratory.intrinsic+json": {
              "type": "string"
            },
            "text/plain": [
              "'I eat 3 apple.'"
            ]
          },
          "metadata": {},
          "execution_count": 74
        }
      ]
    },
    {
      "cell_type": "code",
      "metadata": {
        "id": "6ohsAONkx8Dj",
        "colab": {
          "base_uri": "https://localhost:8080/"
        },
        "outputId": "8e99808a-3103-47ef-9af3-9ee34e1aba4c"
      },
      "source": [
        "#두개 이상의 값을 넣기 \n",
        "number=10;\n",
        "day=\"three\"\n",
        "print (\"I ate %d apples. so i was sick for %s days.\"%(number,day));"
      ],
      "execution_count": 4,
      "outputs": [
        {
          "output_type": "stream",
          "name": "stdout",
          "text": [
            "I ate 10 apples. so i was sick for three days.\n"
          ]
        }
      ]
    },
    {
      "cell_type": "code",
      "metadata": {
        "id": "75IGsXhOyMrU"
      },
      "source": [
        ""
      ],
      "execution_count": null,
      "outputs": []
    },
    {
      "cell_type": "markdown",
      "metadata": {
        "id": "2YGrBALFynv1"
      },
      "source": [
        "# 02-3 리스트 자료형"
      ]
    },
    {
      "cell_type": "code",
      "metadata": {
        "id": "rI0fQ4Qfyurk"
      },
      "source": [
        "# 리스트 인덱싱\n",
        "a=[1,2,3];"
      ],
      "execution_count": 6,
      "outputs": []
    },
    {
      "cell_type": "code",
      "metadata": {
        "colab": {
          "base_uri": "https://localhost:8080/"
        },
        "id": "KdidjvOGy4U8",
        "outputId": "8bdfcae2-a0ac-452a-e23c-d7067ef278ec"
      },
      "source": [
        "print (a);"
      ],
      "execution_count": 7,
      "outputs": [
        {
          "output_type": "stream",
          "name": "stdout",
          "text": [
            "[1, 2, 3]\n"
          ]
        }
      ]
    },
    {
      "cell_type": "code",
      "metadata": {
        "id": "HuCUZY7gy8p4"
      },
      "source": [
        "a[0];"
      ],
      "execution_count": 8,
      "outputs": []
    },
    {
      "cell_type": "code",
      "metadata": {
        "colab": {
          "base_uri": "https://localhost:8080/"
        },
        "id": "IhoyuqmbzArq",
        "outputId": "266ac167-7b33-4450-ab0f-9ea13b9341db"
      },
      "source": [
        "print(a[0]); "
      ],
      "execution_count": 9,
      "outputs": [
        {
          "output_type": "stream",
          "name": "stdout",
          "text": [
            "1\n"
          ]
        }
      ]
    },
    {
      "cell_type": "code",
      "metadata": {
        "colab": {
          "base_uri": "https://localhost:8080/"
        },
        "id": "dQlCZxmxzD_L",
        "outputId": "e7e92db6-99de-457f-c819-4fec4dba1557"
      },
      "source": [
        "print (a[0]+a[2]);"
      ],
      "execution_count": 10,
      "outputs": [
        {
          "output_type": "stream",
          "name": "stdout",
          "text": [
            "4\n"
          ]
        }
      ]
    },
    {
      "cell_type": "code",
      "metadata": {
        "id": "-rIwDaEYzIpT"
      },
      "source": [
        "# 삼중 리스트 인덱싱\n",
        "a= [1,2,[\"a\",\"b\",['Life','is']]]"
      ],
      "execution_count": 11,
      "outputs": []
    },
    {
      "cell_type": "code",
      "metadata": {
        "colab": {
          "base_uri": "https://localhost:8080/"
        },
        "id": "MLnuHVmWzd7e",
        "outputId": "121915a3-338e-4412-926c-ed35a1a1acd0"
      },
      "source": [
        "print (a);"
      ],
      "execution_count": 12,
      "outputs": [
        {
          "output_type": "stream",
          "name": "stdout",
          "text": [
            "[1, 2, ['a', 'b', ['Life', 'is']]]\n"
          ]
        }
      ]
    },
    {
      "cell_type": "code",
      "metadata": {
        "colab": {
          "base_uri": "https://localhost:8080/"
        },
        "id": "Wv43LFpuzfoj",
        "outputId": "d0154d2c-4dc0-46bb-e2a7-3b06d7ce5c3c"
      },
      "source": [
        "print (a[2][2][0]);"
      ],
      "execution_count": 13,
      "outputs": [
        {
          "output_type": "stream",
          "name": "stdout",
          "text": [
            "Life\n"
          ]
        }
      ]
    },
    {
      "cell_type": "code",
      "metadata": {
        "colab": {
          "base_uri": "https://localhost:8080/"
        },
        "id": "EjSi-1mqzlUM",
        "outputId": "02efa4d1-bfcf-4be3-c094-317fcfd83149"
      },
      "source": [
        "# 리스트 슬라이싱\n",
        "a=[1,2,3,4,5];\n",
        "print (a[0:2]);"
      ],
      "execution_count": 14,
      "outputs": [
        {
          "output_type": "stream",
          "name": "stdout",
          "text": [
            "[1, 2]\n"
          ]
        }
      ]
    },
    {
      "cell_type": "code",
      "metadata": {
        "colab": {
          "base_uri": "https://localhost:8080/"
        },
        "id": "eoBOfjcYzyTs",
        "outputId": "61310b46-d95d-436e-ad68-76fdb42b4925"
      },
      "source": [
        "#리스트 더하기 \n",
        "a=[1,2,3];\n",
        "b=[4,5,6];\n",
        "print (a+b);"
      ],
      "execution_count": 15,
      "outputs": [
        {
          "output_type": "stream",
          "name": "stdout",
          "text": [
            "[1, 2, 3, 4, 5, 6]\n"
          ]
        }
      ]
    },
    {
      "cell_type": "code",
      "metadata": {
        "colab": {
          "base_uri": "https://localhost:8080/"
        },
        "id": "r1A-1MaS0E3T",
        "outputId": "ee8ae310-1555-4d7b-aad7-16a4a82bcf05"
      },
      "source": [
        "#리스트 반복하기\n",
        "a=[1,2,3];\n",
        "print (a*3);"
      ],
      "execution_count": 16,
      "outputs": [
        {
          "output_type": "stream",
          "name": "stdout",
          "text": [
            "[1, 2, 3, 1, 2, 3, 1, 2, 3]\n"
          ]
        }
      ]
    },
    {
      "cell_type": "code",
      "metadata": {
        "colab": {
          "base_uri": "https://localhost:8080/"
        },
        "id": "pTfc4QGL0Oiz",
        "outputId": "91f5bcb4-3414-4499-b342-c4f42ca64bee"
      },
      "source": [
        "#리스트 길이 구하기 \n",
        "a=[1,2,3];\n",
        "print(len(a));"
      ],
      "execution_count": 17,
      "outputs": [
        {
          "output_type": "stream",
          "name": "stdout",
          "text": [
            "3\n"
          ]
        }
      ]
    },
    {
      "cell_type": "code",
      "metadata": {
        "colab": {
          "base_uri": "https://localhost:8080/"
        },
        "id": "fORw-LxE0WAD",
        "outputId": "8d7f04a3-3dd4-416c-80eb-5e9524c68a0a"
      },
      "source": [
        "#리스트의 수정과 삭제 \n",
        "a=[1,2,3];\n",
        "a[2]=4;\n",
        "print (a);"
      ],
      "execution_count": 18,
      "outputs": [
        {
          "output_type": "stream",
          "name": "stdout",
          "text": [
            "[1, 2, 4]\n"
          ]
        }
      ]
    },
    {
      "cell_type": "code",
      "metadata": {
        "colab": {
          "base_uri": "https://localhost:8080/"
        },
        "id": "Cuw9Dmik0gE7",
        "outputId": "6d1bc839-a225-46c6-f8fb-65d88c3d417f"
      },
      "source": [
        "#del 함수를 이용해 리스트 요소 삭제\n",
        "a=[1,2,3];\n",
        "del a[1];\n",
        "print (a);"
      ],
      "execution_count": 19,
      "outputs": [
        {
          "output_type": "stream",
          "name": "stdout",
          "text": [
            "[1, 3]\n"
          ]
        }
      ]
    },
    {
      "cell_type": "code",
      "metadata": {
        "colab": {
          "base_uri": "https://localhost:8080/"
        },
        "id": "ur6KOCZ40rnE",
        "outputId": "00e14c98-51bd-4fd2-edab-0807480ed99e"
      },
      "source": [
        "#리스트 정렬 \n",
        "a=[1,4,2,3];\n",
        "a.sort();\n",
        "print (a);"
      ],
      "execution_count": 20,
      "outputs": [
        {
          "output_type": "stream",
          "name": "stdout",
          "text": [
            "[1, 2, 3, 4]\n"
          ]
        }
      ]
    },
    {
      "cell_type": "code",
      "metadata": {
        "colab": {
          "base_uri": "https://localhost:8080/"
        },
        "id": "XQIhLJY_01Bz",
        "outputId": "f4439004-ab91-4977-e188-c1ae7265bfe9"
      },
      "source": [
        "#리스트 뒤집기\n",
        "a=['a','c','b','d'];\n",
        "a.reverse();\n",
        "print (a);"
      ],
      "execution_count": 22,
      "outputs": [
        {
          "output_type": "stream",
          "name": "stdout",
          "text": [
            "['d', 'b', 'c', 'a']\n"
          ]
        }
      ]
    },
    {
      "cell_type": "code",
      "metadata": {
        "colab": {
          "base_uri": "https://localhost:8080/"
        },
        "id": "U9MUKXbS1EZT",
        "outputId": "284bbae5-d0e8-406c-9843-ff1dbaed2ea9"
      },
      "source": [
        "#위치변환 index\n",
        "a=[1,2,3];\n",
        "print (a.index(3));\n",
        "print (a.index(1));"
      ],
      "execution_count": 24,
      "outputs": [
        {
          "output_type": "stream",
          "name": "stdout",
          "text": [
            "2\n",
            "0\n"
          ]
        }
      ]
    },
    {
      "cell_type": "code",
      "metadata": {
        "colab": {
          "base_uri": "https://localhost:8080/"
        },
        "id": "hP7AdBCN1UeL",
        "outputId": "5c76a3c9-67e0-48bd-be7f-c7f5685ac788"
      },
      "source": [
        "#리스트에 요소 제거 remove\n",
        "a=[1,2,3,1,2,3];\n",
        "a.remove(3);\n",
        "print (a);"
      ],
      "execution_count": 25,
      "outputs": [
        {
          "output_type": "stream",
          "name": "stdout",
          "text": [
            "[1, 2, 1, 2, 3]\n"
          ]
        }
      ]
    },
    {
      "cell_type": "code",
      "metadata": {
        "colab": {
          "base_uri": "https://localhost:8080/"
        },
        "id": "Ta4BuEVT1vj7",
        "outputId": "4dc173d1-09ba-4530-ec66-037c7cf2c197"
      },
      "source": [
        "#리스트 요소 끄집어 내기 (pop)\n",
        "# 리스트의 맨 마지막 요소를 돌려주고 꺼낸 요소는 삭제한다. \n",
        "a=[1,2,3];\n",
        "print (a.pop());"
      ],
      "execution_count": 28,
      "outputs": [
        {
          "output_type": "stream",
          "name": "stdout",
          "text": [
            "3\n"
          ]
        }
      ]
    },
    {
      "cell_type": "code",
      "metadata": {
        "colab": {
          "base_uri": "https://localhost:8080/"
        },
        "id": "gD0PmUvo165D",
        "outputId": "058de718-7cd0-42d8-a485-24b8c3eefcac"
      },
      "source": [
        "#리스트에 포함된 요소 갯수 세기 \n",
        "a=[1,2,3,1];\n",
        "print (a.count(1));"
      ],
      "execution_count": 29,
      "outputs": [
        {
          "output_type": "stream",
          "name": "stdout",
          "text": [
            "2\n"
          ]
        }
      ]
    },
    {
      "cell_type": "code",
      "metadata": {
        "colab": {
          "base_uri": "https://localhost:8080/"
        },
        "id": "co_FOQpn2U-D",
        "outputId": "002a4fdc-55c9-44d1-93a0-90e29fcceddc"
      },
      "source": [
        "# 리스트 확장(extend) \n",
        "a=[1,2,3,4];\n",
        "a.extend([5,6,7]);\n",
        "print (a);"
      ],
      "execution_count": 30,
      "outputs": [
        {
          "output_type": "stream",
          "name": "stdout",
          "text": [
            "[1, 2, 3, 4, 5, 6, 7]\n"
          ]
        }
      ]
    },
    {
      "cell_type": "code",
      "metadata": {
        "id": "rtsVEwh82hw7"
      },
      "source": [
        ""
      ],
      "execution_count": null,
      "outputs": []
    },
    {
      "cell_type": "markdown",
      "metadata": {
        "id": "blI5pIPC2jey"
      },
      "source": [
        "# 02-4튜플 자료형"
      ]
    },
    {
      "cell_type": "code",
      "metadata": {
        "colab": {
          "base_uri": "https://localhost:8080/"
        },
        "id": "eyC1fIiW2nOl",
        "outputId": "9e7041dd-4ff8-4818-f800-b461a4476e72"
      },
      "source": [
        "# 튜플이 리스트와 다른점 \n",
        "# 튜플은 () 로 감싼다. (리스트는 [] 로 감싼다)\n",
        "# 리스트는 값의 수정이 가능하지만 튜플은 값을 바꿀 수 없다. \n",
        "# 괄호 생략 무관 \n",
        "t2=(1,2,3);\n",
        "print (t2);"
      ],
      "execution_count": 32,
      "outputs": [
        {
          "output_type": "stream",
          "name": "stdout",
          "text": [
            "(1, 2, 3)\n"
          ]
        }
      ]
    },
    {
      "cell_type": "code",
      "metadata": {
        "colab": {
          "base_uri": "https://localhost:8080/",
          "height": 213
        },
        "id": "6vZ0g1jW28wD",
        "outputId": "3380a4f4-c3df-4314-d0a2-33202d42bee4"
      },
      "source": [
        "# 튜플의 요소를 삭제한다면? \n",
        "t1=1,2,'a','b';\n",
        "del t1[0];"
      ],
      "execution_count": 33,
      "outputs": [
        {
          "output_type": "error",
          "ename": "TypeError",
          "evalue": "ignored",
          "traceback": [
            "\u001b[0;31m---------------------------------------------------------------------------\u001b[0m",
            "\u001b[0;31mTypeError\u001b[0m                                 Traceback (most recent call last)",
            "\u001b[0;32m<ipython-input-33-637f31d6b8f0>\u001b[0m in \u001b[0;36m<module>\u001b[0;34m()\u001b[0m\n\u001b[1;32m      1\u001b[0m \u001b[0;31m# 튜플의 요소를 삭제한다면?\u001b[0m\u001b[0;34m\u001b[0m\u001b[0;34m\u001b[0m\u001b[0;34m\u001b[0m\u001b[0m\n\u001b[1;32m      2\u001b[0m \u001b[0mt1\u001b[0m\u001b[0;34m=\u001b[0m\u001b[0;36m1\u001b[0m\u001b[0;34m,\u001b[0m\u001b[0;36m2\u001b[0m\u001b[0;34m,\u001b[0m\u001b[0;34m'a'\u001b[0m\u001b[0;34m,\u001b[0m\u001b[0;34m'b'\u001b[0m\u001b[0;34m;\u001b[0m\u001b[0;34m\u001b[0m\u001b[0;34m\u001b[0m\u001b[0m\n\u001b[0;32m----> 3\u001b[0;31m \u001b[0;32mdel\u001b[0m \u001b[0mt1\u001b[0m\u001b[0;34m[\u001b[0m\u001b[0;36m0\u001b[0m\u001b[0;34m]\u001b[0m\u001b[0;34m;\u001b[0m\u001b[0;34m\u001b[0m\u001b[0;34m\u001b[0m\u001b[0m\n\u001b[0m",
            "\u001b[0;31mTypeError\u001b[0m: 'tuple' object doesn't support item deletion"
          ]
        }
      ]
    },
    {
      "cell_type": "code",
      "metadata": {
        "colab": {
          "base_uri": "https://localhost:8080/"
        },
        "id": "5cILov5c3N37",
        "outputId": "7e124e6d-a059-491a-f464-363541130267"
      },
      "source": [
        "#튜플의 인덱싱 \n",
        "t1=1,2,3,4,5,6,'a','b';\n",
        "print (t1[0]);"
      ],
      "execution_count": 34,
      "outputs": [
        {
          "output_type": "stream",
          "name": "stdout",
          "text": [
            "1\n"
          ]
        }
      ]
    },
    {
      "cell_type": "code",
      "metadata": {
        "colab": {
          "base_uri": "https://localhost:8080/"
        },
        "id": "ob7GY1Tm3acD",
        "outputId": "b819506f-a999-4e7b-8ca1-1347ee47e472"
      },
      "source": [
        "# 튜플 슬라이싱 \n",
        "t1=1,2,'a','b','c';\n",
        "print(t1[1:]);"
      ],
      "execution_count": 35,
      "outputs": [
        {
          "output_type": "stream",
          "name": "stdout",
          "text": [
            "(2, 'a', 'b', 'c')\n"
          ]
        }
      ]
    },
    {
      "cell_type": "code",
      "metadata": {
        "colab": {
          "base_uri": "https://localhost:8080/"
        },
        "id": "vsnHZ1VS3lfL",
        "outputId": "db081456-68bf-4214-c0d7-e5306974e6f0"
      },
      "source": [
        "# 튜플의 더하기, 곱하기, 길이 구하기 \n",
        "t1=(1,2,3);\n",
        "t2=(4,5,6);\n",
        "# 더하기 \n",
        "c=a+b;\n",
        "print (c);\n",
        "# 곱하기 \n",
        "print (t2*3);\n",
        "#길이 구하기 \n",
        "print (len(t1)); "
      ],
      "execution_count": 46,
      "outputs": [
        {
          "output_type": "stream",
          "name": "stdout",
          "text": [
            "[1, 2, 3, 4, 5, 6, 7, 4, 5, 6]\n",
            "(4, 5, 6, 4, 5, 6, 4, 5, 6)\n",
            "3\n"
          ]
        }
      ]
    },
    {
      "cell_type": "markdown",
      "metadata": {
        "id": "ng2uEZtQ5H5z"
      },
      "source": [
        "#02-5 딕셔너리 자료형 "
      ]
    },
    {
      "cell_type": "code",
      "metadata": {
        "colab": {
          "base_uri": "https://localhost:8080/"
        },
        "id": "aM0lUNjt5LVr",
        "outputId": "52551672-59c4-43d9-a129-5643ae860018"
      },
      "source": [
        "# 딕셔너리 = 대응관계의 표현 \n",
        "dic ={'name':'pey','phone':'00001000100'};\n",
        "print (dic);"
      ],
      "execution_count": 48,
      "outputs": [
        {
          "output_type": "stream",
          "name": "stdout",
          "text": [
            "{'name': 'pey', 'phone': '00001000100'}\n"
          ]
        }
      ]
    },
    {
      "cell_type": "code",
      "metadata": {
        "id": "bmzurJQP52PN"
      },
      "source": [
        "a={1:'hi'};"
      ],
      "execution_count": 49,
      "outputs": []
    },
    {
      "cell_type": "code",
      "metadata": {
        "colab": {
          "base_uri": "https://localhost:8080/"
        },
        "id": "sSlRKJqE6Bwj",
        "outputId": "c460aac6-c3bd-4ff2-d269-0d3e4f03f1da"
      },
      "source": [
        "print (a);"
      ],
      "execution_count": 50,
      "outputs": [
        {
          "output_type": "stream",
          "name": "stdout",
          "text": [
            "{1: 'hi'}\n"
          ]
        }
      ]
    },
    {
      "cell_type": "code",
      "metadata": {
        "colab": {
          "base_uri": "https://localhost:8080/"
        },
        "id": "wCbuDUoB6DJ8",
        "outputId": "ab63a3f3-3404-41dd-c4cc-3687baaaa6c9"
      },
      "source": [
        "#딕셔너리 쌍 추가하기\n",
        "a={1:'a'};\n",
        "a[2]='b';\n",
        "print (a);"
      ],
      "execution_count": 51,
      "outputs": [
        {
          "output_type": "stream",
          "name": "stdout",
          "text": [
            "{1: 'a', 2: 'b'}\n"
          ]
        }
      ]
    },
    {
      "cell_type": "code",
      "metadata": {
        "colab": {
          "base_uri": "https://localhost:8080/"
        },
        "id": "moChZAJp6P6z",
        "outputId": "92f81364-4955-479b-f852-a8254440a6db"
      },
      "source": [
        "a['name']='pey';\n",
        "print (a);"
      ],
      "execution_count": 52,
      "outputs": [
        {
          "output_type": "stream",
          "name": "stdout",
          "text": [
            "{1: 'a', 2: 'b', 'name': 'pey'}\n"
          ]
        }
      ]
    },
    {
      "cell_type": "code",
      "metadata": {
        "colab": {
          "base_uri": "https://localhost:8080/"
        },
        "id": "5LXsIHnh6gpk",
        "outputId": "3e026991-6b99-4966-f737-2f22924c92f1"
      },
      "source": [
        "#딕셔너리 요소 삭제 \n",
        "del a[1];\n",
        "print (a);"
      ],
      "execution_count": 53,
      "outputs": [
        {
          "output_type": "stream",
          "name": "stdout",
          "text": [
            "{2: 'b', 'name': 'pey'}\n"
          ]
        }
      ]
    },
    {
      "cell_type": "code",
      "metadata": {
        "colab": {
          "base_uri": "https://localhost:8080/"
        },
        "id": "-RoeGdnk6mlC",
        "outputId": "3433425e-c24a-448a-8246-49f8a4bb3ac6"
      },
      "source": [
        "#딕셔너리 key 를 사용해 value 얻기 \n",
        "grade = {'pey': 10, 'julliet': 99};\n",
        "print (grade['pey']);"
      ],
      "execution_count": 54,
      "outputs": [
        {
          "output_type": "stream",
          "name": "stdout",
          "text": [
            "10\n"
          ]
        }
      ]
    },
    {
      "cell_type": "code",
      "metadata": {
        "colab": {
          "base_uri": "https://localhost:8080/"
        },
        "id": "dwrBDxjd7F1j",
        "outputId": "e3a76246-26d8-4a43-facf-3d46f0fd716d"
      },
      "source": [
        "#key list 만들기 \n",
        "a = {'name': 'pey', 'phone': '0119993323', 'birth': '1118'};\n",
        "print (a.keys());"
      ],
      "execution_count": 56,
      "outputs": [
        {
          "output_type": "stream",
          "name": "stdout",
          "text": [
            "dict_keys(['name', 'phone', 'birth'])\n"
          ]
        }
      ]
    },
    {
      "cell_type": "code",
      "metadata": {
        "colab": {
          "base_uri": "https://localhost:8080/"
        },
        "id": "qhzmDBIV7a9T",
        "outputId": "0d647f51-ca72-46e0-c467-e5d746a0e3e2"
      },
      "source": [
        "# Value 리스트 만들기 \n",
        "print (a.values());"
      ],
      "execution_count": 57,
      "outputs": [
        {
          "output_type": "stream",
          "name": "stdout",
          "text": [
            "dict_values(['pey', '0119993323', '1118'])\n"
          ]
        }
      ]
    },
    {
      "cell_type": "markdown",
      "metadata": {
        "id": "SmRdrXrN7nvW"
      },
      "source": [
        "# 02-6 집합 자료형"
      ]
    },
    {
      "cell_type": "code",
      "metadata": {
        "colab": {
          "base_uri": "https://localhost:8080/"
        },
        "id": "kKy2Zulk7r9b",
        "outputId": "f312b3fa-db7c-4c02-ca60-f59e286a6528"
      },
      "source": [
        "# 집합에 관련된 것을 쉽게 처리 할 수 잇음 \n",
        "# 만들땐 set 키워드 이용 \n",
        "s1 = set([1,2,3]);\n",
        "print (s1);"
      ],
      "execution_count": 59,
      "outputs": [
        {
          "output_type": "stream",
          "name": "stdout",
          "text": [
            "{1, 2, 3}\n"
          ]
        }
      ]
    },
    {
      "cell_type": "code",
      "metadata": {
        "colab": {
          "base_uri": "https://localhost:8080/"
        },
        "id": "7AKw87eW7yr7",
        "outputId": "2911e61c-96fd-484a-8502-36ae6b3060dc"
      },
      "source": [
        "# 리스트, 문자열 입력 가능 \n",
        "s2 = set(\"Hello\");\n",
        "print(s2);"
      ],
      "execution_count": 60,
      "outputs": [
        {
          "output_type": "stream",
          "name": "stdout",
          "text": [
            "{'H', 'l', 'e', 'o'}\n"
          ]
        }
      ]
    },
    {
      "cell_type": "code",
      "metadata": {
        "id": "XCFkeEzH8DHM"
      },
      "source": [
        "#set 은 중복을 허용 하지 않음"
      ],
      "execution_count": 61,
      "outputs": []
    },
    {
      "cell_type": "code",
      "metadata": {
        "colab": {
          "base_uri": "https://localhost:8080/"
        },
        "id": "vSlIq2ir8MgA",
        "outputId": "4e6e1dbb-838d-4d3a-bab3-a023ea207a47"
      },
      "source": [
        "# 교집합과 차집합 구하기\n",
        "s1 = set([1, 2, 3, 4, 5, 6]);\n",
        "s2 = set([4, 5, 6, 7, 8, 9]);\n",
        "# 교집합(& or intersection())\n",
        "print (s1&s2);\n",
        "print (s1.intersection(s2));\n",
        "#합집합 (| or union)\n",
        "print (s1|s2);\n",
        "print (s1.union(s2));\n",
        "#차집합(- or difference)\n",
        "print(s1 - s2);\n",
        "print (s1.difference(s2));"
      ],
      "execution_count": 62,
      "outputs": [
        {
          "output_type": "stream",
          "name": "stdout",
          "text": [
            "{4, 5, 6}\n",
            "{4, 5, 6}\n",
            "{1, 2, 3, 4, 5, 6, 7, 8, 9}\n",
            "{1, 2, 3, 4, 5, 6, 7, 8, 9}\n",
            "{1, 2, 3}\n",
            "{1, 2, 3}\n"
          ]
        }
      ]
    },
    {
      "cell_type": "code",
      "metadata": {
        "colab": {
          "base_uri": "https://localhost:8080/"
        },
        "id": "LPrno_0n871v",
        "outputId": "7ff54bae-9b3a-4f5d-dcc8-0b4853ba43bc"
      },
      "source": [
        "# 집합 자료형 관련 함수들\n",
        "s1 = set([1, 2, 3]);\n",
        "#값 1개 추가하기(add)\n",
        "s1.add(4);\n",
        "print (s1);\n",
        "#값 여러개 추가하기 (update)\n",
        "s1.update({5,6,7});\n",
        "print (s1);\n",
        "#특정 값 제거하기(remove)\n",
        "s1.remove(2);\n",
        "print (s1);"
      ],
      "execution_count": 63,
      "outputs": [
        {
          "output_type": "stream",
          "name": "stdout",
          "text": [
            "{1, 2, 3, 4}\n",
            "{1, 2, 3, 4, 5, 6, 7}\n",
            "{1, 3, 4, 5, 6, 7}\n"
          ]
        }
      ]
    },
    {
      "cell_type": "markdown",
      "metadata": {
        "id": "6QFc3q6U9fxM"
      },
      "source": [
        "# 02-7 불 자료형"
      ]
    },
    {
      "cell_type": "code",
      "metadata": {
        "id": "33Jpe-4k9iwX"
      },
      "source": [
        "# 참, 거짓 둘만 나차내는 자료형\n",
        "a=True; \n",
        "b=False; "
      ],
      "execution_count": 65,
      "outputs": []
    },
    {
      "cell_type": "code",
      "metadata": {
        "colab": {
          "base_uri": "https://localhost:8080/"
        },
        "id": "QPfz7E8_-IFq",
        "outputId": "7826deef-3b09-48cb-8dd8-e8a28dcfa4f7"
      },
      "source": [
        "print (type(a));"
      ],
      "execution_count": 66,
      "outputs": [
        {
          "output_type": "stream",
          "name": "stdout",
          "text": [
            "<class 'bool'>\n"
          ]
        }
      ]
    },
    {
      "cell_type": "code",
      "metadata": {
        "colab": {
          "base_uri": "https://localhost:8080/"
        },
        "id": "sAU73IvM-QCz",
        "outputId": "69bebe63-80a0-42f1-ed99-fde6276641dc"
      },
      "source": [
        "# 조건문의 반환 값으로 활용 \n",
        "1==1"
      ],
      "execution_count": 67,
      "outputs": [
        {
          "output_type": "execute_result",
          "data": {
            "text/plain": [
              "True"
            ]
          },
          "metadata": {},
          "execution_count": 67
        }
      ]
    },
    {
      "cell_type": "code",
      "metadata": {
        "colab": {
          "base_uri": "https://localhost:8080/"
        },
        "id": "HYoEtvqj-XLL",
        "outputId": "5be45853-eef3-4fb2-f1b9-a1608589635e"
      },
      "source": [
        "a=[1,2,3,4];\n",
        "while a: \n",
        "  print (a.pop());"
      ],
      "execution_count": 68,
      "outputs": [
        {
          "output_type": "stream",
          "name": "stdout",
          "text": [
            "4\n",
            "3\n",
            "2\n",
            "1\n"
          ]
        }
      ]
    },
    {
      "cell_type": "code",
      "metadata": {
        "colab": {
          "base_uri": "https://localhost:8080/"
        },
        "id": "44ZfOzxq-mZD",
        "outputId": "f9ce8c1e-218d-49bf-e6f6-54342a2687ba"
      },
      "source": [
        "# 불 연산 \n",
        "print (bool('python')); # 빈문자열이 아님으로 true\n",
        "print (bool('')); "
      ],
      "execution_count": 69,
      "outputs": [
        {
          "output_type": "stream",
          "name": "stdout",
          "text": [
            "True\n",
            "False\n"
          ]
        }
      ]
    },
    {
      "cell_type": "markdown",
      "metadata": {
        "id": "xc9Uafyu--5R"
      },
      "source": [
        "# 02-8 자료형의 값을 저장하는 공간 , 변수 "
      ]
    },
    {
      "cell_type": "code",
      "metadata": {
        "colab": {
          "base_uri": "https://localhost:8080/"
        },
        "id": "-TMSPgic_FhL",
        "outputId": "e5367624-3f67-4609-aa83-fbeb9cf81b08"
      },
      "source": [
        "# 변수를 만들때는 assign 기로 '=' 사용한다.\n",
        "# 변수이름 = 변수에 저장할 값\n",
        "#변수가 가리키는 메모리주소 확인 \n",
        "a=[1,2,3];\n",
        "print (id(a));"
      ],
      "execution_count": 71,
      "outputs": [
        {
          "output_type": "stream",
          "name": "stdout",
          "text": [
            "140308107944976\n"
          ]
        }
      ]
    },
    {
      "cell_type": "code",
      "metadata": {
        "colab": {
          "base_uri": "https://localhost:8080/"
        },
        "id": "ozRqbCdc_ZWc",
        "outputId": "eb4dcc9b-dcde-4f64-e08f-c571a20f7f2b"
      },
      "source": [
        "#리스트를 복사할때 \n",
        "a=[1,2,3];\n",
        "b=a;\n",
        "print (b);"
      ],
      "execution_count": 72,
      "outputs": [
        {
          "output_type": "stream",
          "name": "stdout",
          "text": [
            "[1, 2, 3]\n"
          ]
        }
      ]
    },
    {
      "cell_type": "code",
      "metadata": {
        "colab": {
          "base_uri": "https://localhost:8080/"
        },
        "id": "FAo_lxDK_kLj",
        "outputId": "561eb24a-1f53-4ef0-82ae-1882076c438b"
      },
      "source": [
        "# id 함수를 활용하면 복사된 사실을 알 수 있다. \n",
        "print(id(a));\n",
        "print(id(b));    "
      ],
      "execution_count": 74,
      "outputs": [
        {
          "output_type": "stream",
          "name": "stdout",
          "text": [
            "140308107850768\n",
            "140308107850768\n"
          ]
        }
      ]
    },
    {
      "cell_type": "code",
      "metadata": {
        "colab": {
          "base_uri": "https://localhost:8080/"
        },
        "id": "X2kl8UbU_sRk",
        "outputId": "1d110c36-614a-4b24-a3bf-0094c8964229"
      },
      "source": [
        "# is 객체를 사용해도 동일한 것을 알수 있음 \n",
        "a is b"
      ],
      "execution_count": 76,
      "outputs": [
        {
          "output_type": "execute_result",
          "data": {
            "text/plain": [
              "True"
            ]
          },
          "metadata": {},
          "execution_count": 76
        }
      ]
    },
    {
      "cell_type": "code",
      "metadata": {
        "colab": {
          "base_uri": "https://localhost:8080/"
        },
        "id": "nNNaKz7A_-AK",
        "outputId": "6a356b02-d191-4441-deac-add77465d9eb"
      },
      "source": [
        "a[1]=4;\n",
        "print (a);\n",
        "print (b);"
      ],
      "execution_count": 77,
      "outputs": [
        {
          "output_type": "stream",
          "name": "stdout",
          "text": [
            "[1, 4, 3]\n",
            "[1, 4, 3]\n"
          ]
        }
      ]
    },
    {
      "cell_type": "code",
      "metadata": {
        "colab": {
          "base_uri": "https://localhost:8080/"
        },
        "id": "qMm_YJm6AINr",
        "outputId": "30b96d8c-f1c0-4d48-e647-1b17eead27e4"
      },
      "source": [
        "#copy 모듈 이용 (b = copy(a)는 b = a[:]과 동일하다.)\n",
        "from copy import copy\n",
        "a=[1,2,3];\n",
        "b=copy(a);\n",
        "print (b);"
      ],
      "execution_count": 79,
      "outputs": [
        {
          "output_type": "stream",
          "name": "stdout",
          "text": [
            "[1, 2, 3]\n"
          ]
        }
      ]
    },
    {
      "cell_type": "code",
      "metadata": {
        "colab": {
          "base_uri": "https://localhost:8080/"
        },
        "id": "CYG3hzOuAVer",
        "outputId": "fd6c3f80-48d6-4958-a2ab-239961015708"
      },
      "source": [
        "b is a"
      ],
      "execution_count": 80,
      "outputs": [
        {
          "output_type": "execute_result",
          "data": {
            "text/plain": [
              "False"
            ]
          },
          "metadata": {},
          "execution_count": 80
        }
      ]
    },
    {
      "cell_type": "code",
      "metadata": {
        "id": "VUOz2XFTAcSr"
      },
      "source": [
        ""
      ],
      "execution_count": null,
      "outputs": []
    }
  ]
}
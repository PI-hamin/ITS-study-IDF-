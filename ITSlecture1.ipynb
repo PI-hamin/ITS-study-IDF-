{
  "nbformat": 4,
  "nbformat_minor": 0,
  "metadata": {
    "colab": {
      "name": "ITSlecture1.ipynb",
      "provenance": [],
      "collapsed_sections": [],
      "authorship_tag": "ABX9TyOYMaGzWFmzGqapCqLqDWp/",
      "include_colab_link": true
    },
    "kernelspec": {
      "name": "python3",
      "display_name": "Python 3"
    },
    "language_info": {
      "name": "python"
    }
  },
  "cells": [
    {
      "cell_type": "markdown",
      "metadata": {
        "id": "view-in-github",
        "colab_type": "text"
      },
      "source": [
        "<a href=\"https://colab.research.google.com/github/YangHamin/ITS-study-IDF-/blob/main/ITSlecture1.ipynb\" target=\"_parent\"><img src=\"https://colab.research.google.com/assets/colab-badge.svg\" alt=\"Open In Colab\"/></a>"
      ]
    },
    {
      "cell_type": "code",
      "metadata": {
        "id": "hGTqdzzhrmAq"
      },
      "source": [
        "#고속도로 15분통행량 data 분석 실습임. "
      ],
      "execution_count": 1,
      "outputs": []
    },
    {
      "cell_type": "markdown",
      "metadata": {
        "id": "Crekm4ywyzI-"
      },
      "source": [
        "- data  분석 실습 순서 - \n",
        "0. 다운로드 받은 데이터셋 확인 \n",
        "1. 데이터셋 업로드\n",
        "2. 한글폰트 설치 \n",
        "3. google drive 마운트 \n",
        "----------------------------\n",
        "4. 데이터 로드 \n",
        "5. 데이터 가공 \n",
        "6. 데이터 탐색 및 시각화 "
      ]
    },
    {
      "cell_type": "code",
      "metadata": {
        "id": "FypXaBjUzE3K"
      },
      "source": [
        "# 1. 한글폰트 설치 후 런타임 시작 "
      ],
      "execution_count": 2,
      "outputs": []
    },
    {
      "cell_type": "code",
      "metadata": {
        "colab": {
          "base_uri": "https://localhost:8080/"
        },
        "id": "0tRbQPSI1Njv",
        "outputId": "0c91555b-8cbd-401a-d539-2c4b13db3e46"
      },
      "source": [
        "# ! : colab jupyter natebook cell 에서 리눅스 셸(shell) 명령어 커맨드를 실행하기 위해 붙혀줌 \n",
        "# sudo : supre user 권한으로 명령어를 실행 \n",
        "# apt-get : linux package manager 명령어 \n",
        "# install : 설치 \n",
        "# -y : prompt 발생시 기본적으로 yes 처리 \n",
        "# rm : 삭제 \n",
        "# ~/ :사용자 홈 디렉토리 \n",
        "!sudo pat-get install -y fonts-nanum # 나눔폰트 다운\n",
        "!sudo fc-cache -fv\n",
        "!rm ~/.cache/matplotlib -rf "
      ],
      "execution_count": 2,
      "outputs": [
        {
          "output_type": "stream",
          "name": "stdout",
          "text": [
            "sudo: pat-get: command not found\n",
            "/usr/share/fonts: caching, new cache contents: 0 fonts, 1 dirs\n",
            "/usr/share/fonts/truetype: caching, new cache contents: 0 fonts, 2 dirs\n",
            "/usr/share/fonts/truetype/humor-sans: caching, new cache contents: 1 fonts, 0 dirs\n",
            "/usr/share/fonts/truetype/liberation: caching, new cache contents: 16 fonts, 0 dirs\n",
            "/usr/local/share/fonts: caching, new cache contents: 0 fonts, 0 dirs\n",
            "/root/.local/share/fonts: skipping, no such directory\n",
            "/root/.fonts: skipping, no such directory\n",
            "/var/cache/fontconfig: cleaning cache directory\n",
            "/root/.cache/fontconfig: not cleaning non-existent cache directory\n",
            "/root/.fontconfig: not cleaning non-existent cache directory\n",
            "fc-cache: succeeded\n"
          ]
        }
      ]
    },
    {
      "cell_type": "code",
      "metadata": {
        "id": "Lyq-xm3u2JDK"
      },
      "source": [
        "# 설치된 한글 폰트를 matplot 의 폰트로 지정한다. \n",
        "import matplotlib.pyplot as plt\n",
        "plt.rc('font',family='NanumBarunGothic')"
      ],
      "execution_count": 1,
      "outputs": []
    },
    {
      "cell_type": "code",
      "metadata": {
        "id": "eCsitive3Sll"
      },
      "source": [
        "# Google drive mount (드라이브 할당)\n",
        "# mount 에 필요한 라이브러리 import \n",
        "import os # 운영체제 명령어 사용을 위한 라이브러리 \n",
        "import glob #  지정 폴더 안의 모든 파일 목록 확인시 사용하는 라이브러리 \n",
        "from google.colab import drive # google drive 에 엑세스 하는 라이브러리 "
      ],
      "execution_count": 3,
      "outputs": []
    },
    {
      "cell_type": "code",
      "metadata": {
        "colab": {
          "base_uri": "https://localhost:8080/"
        },
        "id": "DVAddUFl5yLW",
        "outputId": "66e2500d-ad07-40ec-fefa-07066e1a668d"
      },
      "source": [
        "drive.mount('/content/drive')# 마운트 "
      ],
      "execution_count": 8,
      "outputs": [
        {
          "output_type": "stream",
          "name": "stdout",
          "text": [
            "Mounted at /content/drive\n"
          ]
        }
      ]
    },
    {
      "cell_type": "code",
      "metadata": {
        "colab": {
          "base_uri": "https://localhost:8080/",
          "height": 35
        },
        "id": "grw5LSK26fo0",
        "outputId": "d40a3eac-6501-4a34-d35a-2ec120143c8f"
      },
      "source": [
        "# % : magic command\n",
        "%pwd # peint # working dirextory (현재 작업 디렉토리)"
      ],
      "execution_count": 12,
      "outputs": [
        {
          "output_type": "execute_result",
          "data": {
            "application/vnd.google.colaboratory.intrinsic+json": {
              "type": "string"
            },
            "text/plain": [
              "'/content'"
            ]
          },
          "metadata": {},
          "execution_count": 12
        }
      ]
    },
    {
      "cell_type": "code",
      "metadata": {
        "colab": {
          "base_uri": "https://localhost:8080/"
        },
        "id": "OeSmlKSF8C1z",
        "outputId": "a38d32ec-39a4-4dca-dab1-88aeb16606fc"
      },
      "source": [
        "# 데이터 셋을 업로드한 디렉토리로 이동 \n",
        "# cd : change directory\n",
        "%cd /content/drive/MyDrive/ITS-KNUT/datasets/ex15min"
      ],
      "execution_count": 31,
      "outputs": [
        {
          "output_type": "stream",
          "name": "stdout",
          "text": [
            "/content/drive/MyDrive/ITS-KNUT/datasets/ex15min\n"
          ]
        }
      ]
    },
    {
      "cell_type": "code",
      "metadata": {
        "id": "dOAkePRB9lJ6"
      },
      "source": [
        "# 데이터셋으로 업로드한 엑셀 csv 파일 목록을 읽기 위하여 현재 디렉토리를 확인 , os.getcwd(): current working directory 햔재 작업 디렉토리 정보를 가져온다 \n",
        "path = os.getcwd()\n",
        "# 현재 디렉토리 내 사용자가 명시한 모든 파일 목록을 가져와라, glob.glob()\n",
        "csv_files=glob.glob(os.path.join(path, \"*.csv\")) # os.path.join () : path 와 사용자가 제시하는 파일명을 결합 "
      ],
      "execution_count": 36,
      "outputs": []
    },
    {
      "cell_type": "code",
      "metadata": {
        "colab": {
          "base_uri": "https://localhost:8080/"
        },
        "id": "Q3UFs8rV_yvS",
        "outputId": "bab36b7a-1627-4e28-fdb0-ec74ad54c216"
      },
      "source": [
        "csv_files"
      ],
      "execution_count": 37,
      "outputs": [
        {
          "output_type": "execute_result",
          "data": {
            "text/plain": [
              "['/content/drive/My Drive/ITS-KNUT/datasets/ex15min/TB_COL_EX_T_RLRL_TRFC_BBOC_15MIN_(1).csv',\n",
              " '/content/drive/My Drive/ITS-KNUT/datasets/ex15min/TB_COL_EX_T_RLRL_TRFC_BBOC_15MIN_(2).csv',\n",
              " '/content/drive/My Drive/ITS-KNUT/datasets/ex15min/TB_COL_EX_T_RLRL_TRFC_BBOC_15MIN_(3).csv',\n",
              " '/content/drive/My Drive/ITS-KNUT/datasets/ex15min/TB_COL_EX_T_RLRL_TRFC_BBOC_15MIN_(4).csv',\n",
              " '/content/drive/My Drive/ITS-KNUT/datasets/ex15min/TB_COL_EX_T_RLRL_TRFC_BBOC_15MIN_(5).csv',\n",
              " '/content/drive/My Drive/ITS-KNUT/datasets/ex15min/TB_COL_EX_T_RLRL_TRFC_BBOC_15MIN_(6).csv',\n",
              " '/content/drive/My Drive/ITS-KNUT/datasets/ex15min/TB_COL_EX_T_RLRL_TRFC_BBOC_15MIN_(7).csv',\n",
              " '/content/drive/My Drive/ITS-KNUT/datasets/ex15min/TB_COL_EX_T_RLRL_TRFC_BBOC_15MIN_(8).csv',\n",
              " '/content/drive/My Drive/ITS-KNUT/datasets/ex15min/TB_COL_EX_T_RLRL_TRFC_BBOC_15MIN_(9).csv',\n",
              " '/content/drive/My Drive/ITS-KNUT/datasets/ex15min/TB_COL_EX_T_RLRL_TRFC_BBOC_15MIN_(10).csv',\n",
              " '/content/drive/My Drive/ITS-KNUT/datasets/ex15min/TB_COL_EX_T_RLRL_TRFC_BBOC_15MIN_(11).csv',\n",
              " '/content/drive/My Drive/ITS-KNUT/datasets/ex15min/TB_COL_EX_T_RLRL_TRFC_BBOC_15MIN_(12).csv',\n",
              " '/content/drive/My Drive/ITS-KNUT/datasets/ex15min/TB_COL_EX_T_RLRL_TRFC_BBOC_15MIN_(13).csv',\n",
              " '/content/drive/My Drive/ITS-KNUT/datasets/ex15min/TB_COL_EX_T_RLRL_TRFC_BBOC_15MIN_(14).csv',\n",
              " '/content/drive/My Drive/ITS-KNUT/datasets/ex15min/TB_COL_EX_T_RLRL_TRFC_BBOC_15MIN_(15).csv',\n",
              " '/content/drive/My Drive/ITS-KNUT/datasets/ex15min/TB_COL_EX_T_RLRL_TRFC_BBOC_15MIN_(16).csv',\n",
              " '/content/drive/My Drive/ITS-KNUT/datasets/ex15min/TB_COL_EX_T_RLRL_TRFC_BBOC_15MIN_(17).csv',\n",
              " '/content/drive/My Drive/ITS-KNUT/datasets/ex15min/TB_COL_EX_T_RLRL_TRFC_BBOC_15MIN_(18).csv',\n",
              " '/content/drive/My Drive/ITS-KNUT/datasets/ex15min/TB_COL_EX_T_RLRL_TRFC_BBOC_15MIN_(19).csv',\n",
              " '/content/drive/My Drive/ITS-KNUT/datasets/ex15min/TB_COL_EX_T_RLRL_TRFC_BBOC_15MIN_(20).csv',\n",
              " '/content/drive/My Drive/ITS-KNUT/datasets/ex15min/TB_COL_EX_T_RLRL_TRFC_BBOC_15MIN_(21).csv',\n",
              " '/content/drive/My Drive/ITS-KNUT/datasets/ex15min/TB_COL_EX_T_RLRL_TRFC_BBOC_15MIN_(22).csv',\n",
              " '/content/drive/My Drive/ITS-KNUT/datasets/ex15min/TB_COL_EX_T_RLRL_TRFC_BBOC_15MIN_(23).csv',\n",
              " '/content/drive/My Drive/ITS-KNUT/datasets/ex15min/TB_COL_EX_T_RLRL_TRFC_BBOC_15MIN_(24).csv']"
            ]
          },
          "metadata": {},
          "execution_count": 37
        }
      ]
    },
    {
      "cell_type": "code",
      "metadata": {
        "colab": {
          "base_uri": "https://localhost:8080/"
        },
        "id": "wxNjq41vATER",
        "outputId": "8fb5daec-132a-4b7c-888f-ee3f45db5613"
      },
      "source": [
        "type (csv_files)"
      ],
      "execution_count": 38,
      "outputs": [
        {
          "output_type": "execute_result",
          "data": {
            "text/plain": [
              "list"
            ]
          },
          "metadata": {},
          "execution_count": 38
        }
      ]
    },
    {
      "cell_type": "code",
      "metadata": {
        "colab": {
          "base_uri": "https://localhost:8080/"
        },
        "id": "Z6l3YnnWAeSW",
        "outputId": "11c2a4e8-a50c-4ff5-9a5f-ef9b7205ee3d"
      },
      "source": [
        "# csv_files 리스트 내의 파일목록을 하나씩 읽어서 \n",
        "# 각각의 file을 dataframe 으로 읽어들인다.\n",
        "# for loop 이용 \n",
        "import pandas as pd\n",
        "import numpy as np\n",
        "for singlefile in  csv_files : \n",
        "  # file 하나를 pd.read_csv(파일명) 명령어를 이용해 읽음\n",
        "  # 데이터 프레임으로 변환 \n",
        "  csv_df=pd.read_csv(singlefile)\n",
        "  # 기본적인 정보 확인 (파일명과 데이터 프레임의 행의 갯수출력)\n",
        "  print (singlefile,len(csv_df))   "
      ],
      "execution_count": 59,
      "outputs": [
        {
          "output_type": "stream",
          "name": "stdout",
          "text": [
            "/content/drive/My Drive/ITS-KNUT/datasets/ex15min/TB_COL_EX_T_RLRL_TRFC_BBOC_15MIN_(1).csv 416499\n",
            "/content/drive/My Drive/ITS-KNUT/datasets/ex15min/TB_COL_EX_T_RLRL_TRFC_BBOC_15MIN_(2).csv 361131\n",
            "/content/drive/My Drive/ITS-KNUT/datasets/ex15min/TB_COL_EX_T_RLRL_TRFC_BBOC_15MIN_(3).csv 303810\n",
            "/content/drive/My Drive/ITS-KNUT/datasets/ex15min/TB_COL_EX_T_RLRL_TRFC_BBOC_15MIN_(4).csv 396865\n",
            "/content/drive/My Drive/ITS-KNUT/datasets/ex15min/TB_COL_EX_T_RLRL_TRFC_BBOC_15MIN_(5).csv 406954\n",
            "/content/drive/My Drive/ITS-KNUT/datasets/ex15min/TB_COL_EX_T_RLRL_TRFC_BBOC_15MIN_(6).csv 404669\n",
            "/content/drive/My Drive/ITS-KNUT/datasets/ex15min/TB_COL_EX_T_RLRL_TRFC_BBOC_15MIN_(7).csv 426506\n",
            "/content/drive/My Drive/ITS-KNUT/datasets/ex15min/TB_COL_EX_T_RLRL_TRFC_BBOC_15MIN_(8).csv 410113\n",
            "/content/drive/My Drive/ITS-KNUT/datasets/ex15min/TB_COL_EX_T_RLRL_TRFC_BBOC_15MIN_(9).csv 355852\n",
            "/content/drive/My Drive/ITS-KNUT/datasets/ex15min/TB_COL_EX_T_RLRL_TRFC_BBOC_15MIN_(10).csv 301001\n",
            "/content/drive/My Drive/ITS-KNUT/datasets/ex15min/TB_COL_EX_T_RLRL_TRFC_BBOC_15MIN_(11).csv 369984\n",
            "/content/drive/My Drive/ITS-KNUT/datasets/ex15min/TB_COL_EX_T_RLRL_TRFC_BBOC_15MIN_(12).csv 379081\n",
            "/content/drive/My Drive/ITS-KNUT/datasets/ex15min/TB_COL_EX_T_RLRL_TRFC_BBOC_15MIN_(13).csv 405170\n",
            "/content/drive/My Drive/ITS-KNUT/datasets/ex15min/TB_COL_EX_T_RLRL_TRFC_BBOC_15MIN_(14).csv 409414\n",
            "/content/drive/My Drive/ITS-KNUT/datasets/ex15min/TB_COL_EX_T_RLRL_TRFC_BBOC_15MIN_(15).csv 411964\n",
            "/content/drive/My Drive/ITS-KNUT/datasets/ex15min/TB_COL_EX_T_RLRL_TRFC_BBOC_15MIN_(16).csv 353415\n",
            "/content/drive/My Drive/ITS-KNUT/datasets/ex15min/TB_COL_EX_T_RLRL_TRFC_BBOC_15MIN_(17).csv 306264\n",
            "/content/drive/My Drive/ITS-KNUT/datasets/ex15min/TB_COL_EX_T_RLRL_TRFC_BBOC_15MIN_(18).csv 325200\n",
            "/content/drive/My Drive/ITS-KNUT/datasets/ex15min/TB_COL_EX_T_RLRL_TRFC_BBOC_15MIN_(19).csv 368637\n",
            "/content/drive/My Drive/ITS-KNUT/datasets/ex15min/TB_COL_EX_T_RLRL_TRFC_BBOC_15MIN_(20).csv 388610\n",
            "/content/drive/My Drive/ITS-KNUT/datasets/ex15min/TB_COL_EX_T_RLRL_TRFC_BBOC_15MIN_(21).csv 389775\n",
            "/content/drive/My Drive/ITS-KNUT/datasets/ex15min/TB_COL_EX_T_RLRL_TRFC_BBOC_15MIN_(22).csv 390796\n",
            "/content/drive/My Drive/ITS-KNUT/datasets/ex15min/TB_COL_EX_T_RLRL_TRFC_BBOC_15MIN_(23).csv 358663\n",
            "/content/drive/My Drive/ITS-KNUT/datasets/ex15min/TB_COL_EX_T_RLRL_TRFC_BBOC_15MIN_(24).csv 305632\n"
          ]
        },
        {
          "output_type": "stream",
          "name": "stderr",
          "text": [
            "/usr/local/lib/python3.7/dist-packages/IPython/core/interactiveshell.py:2718: DtypeWarning: Columns (2) have mixed types.Specify dtype option on import or set low_memory=False.\n",
            "  interactivity=interactivity, compiler=compiler, result=result)\n"
          ]
        }
      ]
    },
    {
      "cell_type": "markdown",
      "metadata": {
        "id": "FG0oGqOYHEgP"
      },
      "source": [
        "데이터 셋 구성 (데이터 정의서 내용 )\n",
        " 컬럼명 (한글/영문)/컬럼설명/데이터타입/*코드테이블 별도 참조 \n",
        "\n",
        " 집게일자(AGGR_DATE)/집계일자 /Text\n",
        "\n",
        " 충주 주변 영업소 코드 \n",
        " 충주 : 562\n",
        " 충주(특) :762\n",
        " 북충주:561\n",
        " 동충주:297\n",
        " 동충주특 :497\n",
        " 서충주:188\n",
        " 서충주(특):388"
      ]
    },
    {
      "cell_type": "code",
      "metadata": {
        "colab": {
          "base_uri": "https://localhost:8080/"
        },
        "id": "Zxy1GBkYCOOe",
        "outputId": "a0308190-0c08-497a-ae6a-447db081446a"
      },
      "source": [
        "#충주지역의 톨게이트 데이터만을 분석 대상 프레임으로 로드한다. \n",
        "\n",
        "# 필터링 된 데이터프레임을 생성 : pd.DataFrame(컬럼명리스트)\n",
        "#f_df : filtered data frame\n",
        "f_df=pd.DataFrame(columns=['AGGR_DATE','AGGR_HM','BUZPLC_CODE','INOUT_SE_CD','TCS_CAR_KIND_SE_CD','TCS_HIPASS_SE_CD','YMTC','LAST_CHANGE_TIME'])\n",
        "\n",
        "# 모든 file 을 대상으로 파일을 읽어 데이터 프레임으로 변환 후 \n",
        "# 변환된 데이터 프레임에서 충주주변 condition 1~7 을 만족하는 영업소 코드 데이터만 필터링 하여 \n",
        "# f_df 데이터 프레임에 추가 \n",
        "for singlefile in csv_files :\n",
        "  #csv 파일을 읽어 dataframe 으로 구성 \n",
        "  csv_df = pd.read_csv(singlefile)\n",
        "  #충주지역 톨게이트 (영업소별)조건 생성 \n",
        "  condition1=csv_df.BUZPLC_CODE==188#서충주\n",
        "  condition2=csv_df.BUZPLC_CODE==297#동충주\n",
        "  condition3=csv_df.BUZPLC_CODE==377#서충주(특)\n",
        "  condition4=csv_df.BUZPLC_CODE==497#동충주(특)\n",
        "  condition5=csv_df.BUZPLC_CODE==561#북충주\n",
        "  condition6=csv_df.BUZPLC_CODE==562#충주\n",
        "  condition7=csv_df.BUZPLC_CODE==762#충주(특)\n",
        "\n",
        "  df=csv_df.loc[condition1|condition2 | condition3 |condition4 |condition5 |condition6 |condition7]\n",
        "  \n",
        "  \n",
        "  #pd.concat() : data frame 을 합친다. \n",
        "  f_df =pd.concat([f_df,df],axis=0)"
      ],
      "execution_count": 65,
      "outputs": [
        {
          "output_type": "stream",
          "name": "stderr",
          "text": [
            "/usr/local/lib/python3.7/dist-packages/IPython/core/interactiveshell.py:2718: DtypeWarning: Columns (2) have mixed types.Specify dtype option on import or set low_memory=False.\n",
            "  interactivity=interactivity, compiler=compiler, result=result)\n"
          ]
        }
      ]
    },
    {
      "cell_type": "code",
      "metadata": {
        "colab": {
          "base_uri": "https://localhost:8080/",
          "height": 423
        },
        "id": "Ec5-aQ4iNCjC",
        "outputId": "b52fdbd6-d218-453d-8199-9e09b1fc3b58"
      },
      "source": [
        "f_df"
      ],
      "execution_count": 66,
      "outputs": [
        {
          "output_type": "execute_result",
          "data": {
            "text/html": [
              "<div>\n",
              "<style scoped>\n",
              "    .dataframe tbody tr th:only-of-type {\n",
              "        vertical-align: middle;\n",
              "    }\n",
              "\n",
              "    .dataframe tbody tr th {\n",
              "        vertical-align: top;\n",
              "    }\n",
              "\n",
              "    .dataframe thead th {\n",
              "        text-align: right;\n",
              "    }\n",
              "</style>\n",
              "<table border=\"1\" class=\"dataframe\">\n",
              "  <thead>\n",
              "    <tr style=\"text-align: right;\">\n",
              "      <th></th>\n",
              "      <th>AGGR_DATE</th>\n",
              "      <th>AGGR_HM</th>\n",
              "      <th>BUZPLC_CODE</th>\n",
              "      <th>INOUT_SE_CD</th>\n",
              "      <th>TCS_CAR_KIND_SE_CD</th>\n",
              "      <th>TCS_HIPASS_SE_CD</th>\n",
              "      <th>YMTC</th>\n",
              "      <th>LAST_CHANGE_TIME</th>\n",
              "      <th>VMTC</th>\n",
              "    </tr>\n",
              "  </thead>\n",
              "  <tbody>\n",
              "    <tr>\n",
              "      <th>562</th>\n",
              "      <td>20211001</td>\n",
              "      <td>0</td>\n",
              "      <td>188</td>\n",
              "      <td>0</td>\n",
              "      <td>1</td>\n",
              "      <td>2</td>\n",
              "      <td>NaN</td>\n",
              "      <td>20211001015841</td>\n",
              "      <td>7.0</td>\n",
              "    </tr>\n",
              "    <tr>\n",
              "      <th>563</th>\n",
              "      <td>20211001</td>\n",
              "      <td>0</td>\n",
              "      <td>188</td>\n",
              "      <td>0</td>\n",
              "      <td>5</td>\n",
              "      <td>2</td>\n",
              "      <td>NaN</td>\n",
              "      <td>20211001015841</td>\n",
              "      <td>1.0</td>\n",
              "    </tr>\n",
              "    <tr>\n",
              "      <th>564</th>\n",
              "      <td>20211001</td>\n",
              "      <td>0</td>\n",
              "      <td>188</td>\n",
              "      <td>1</td>\n",
              "      <td>1</td>\n",
              "      <td>1</td>\n",
              "      <td>NaN</td>\n",
              "      <td>20211001015841</td>\n",
              "      <td>1.0</td>\n",
              "    </tr>\n",
              "    <tr>\n",
              "      <th>565</th>\n",
              "      <td>20211001</td>\n",
              "      <td>0</td>\n",
              "      <td>188</td>\n",
              "      <td>1</td>\n",
              "      <td>1</td>\n",
              "      <td>2</td>\n",
              "      <td>NaN</td>\n",
              "      <td>20211001015841</td>\n",
              "      <td>6.0</td>\n",
              "    </tr>\n",
              "    <tr>\n",
              "      <th>566</th>\n",
              "      <td>20211001</td>\n",
              "      <td>0</td>\n",
              "      <td>188</td>\n",
              "      <td>1</td>\n",
              "      <td>3</td>\n",
              "      <td>2</td>\n",
              "      <td>NaN</td>\n",
              "      <td>20211001015841</td>\n",
              "      <td>1.0</td>\n",
              "    </tr>\n",
              "    <tr>\n",
              "      <th>...</th>\n",
              "      <td>...</td>\n",
              "      <td>...</td>\n",
              "      <td>...</td>\n",
              "      <td>...</td>\n",
              "      <td>...</td>\n",
              "      <td>...</td>\n",
              "      <td>...</td>\n",
              "      <td>...</td>\n",
              "      <td>...</td>\n",
              "    </tr>\n",
              "    <tr>\n",
              "      <th>304975</th>\n",
              "      <td>20211031</td>\n",
              "      <td>245</td>\n",
              "      <td>297</td>\n",
              "      <td>0</td>\n",
              "      <td>4</td>\n",
              "      <td>2</td>\n",
              "      <td>NaN</td>\n",
              "      <td>20211031030521</td>\n",
              "      <td>1.0</td>\n",
              "    </tr>\n",
              "    <tr>\n",
              "      <th>304976</th>\n",
              "      <td>20211031</td>\n",
              "      <td>245</td>\n",
              "      <td>297</td>\n",
              "      <td>0</td>\n",
              "      <td>5</td>\n",
              "      <td>2</td>\n",
              "      <td>NaN</td>\n",
              "      <td>20211031030521</td>\n",
              "      <td>3.0</td>\n",
              "    </tr>\n",
              "    <tr>\n",
              "      <th>304977</th>\n",
              "      <td>20211031</td>\n",
              "      <td>245</td>\n",
              "      <td>297</td>\n",
              "      <td>1</td>\n",
              "      <td>1</td>\n",
              "      <td>2</td>\n",
              "      <td>NaN</td>\n",
              "      <td>20211031030521</td>\n",
              "      <td>2.0</td>\n",
              "    </tr>\n",
              "    <tr>\n",
              "      <th>305584</th>\n",
              "      <td>20211031</td>\n",
              "      <td>245</td>\n",
              "      <td>762</td>\n",
              "      <td>1</td>\n",
              "      <td>1</td>\n",
              "      <td>2</td>\n",
              "      <td>NaN</td>\n",
              "      <td>20211031030521</td>\n",
              "      <td>1.0</td>\n",
              "    </tr>\n",
              "    <tr>\n",
              "      <th>305585</th>\n",
              "      <td>20211031</td>\n",
              "      <td>245</td>\n",
              "      <td>762</td>\n",
              "      <td>1</td>\n",
              "      <td>6</td>\n",
              "      <td>2</td>\n",
              "      <td>NaN</td>\n",
              "      <td>20211031030521</td>\n",
              "      <td>1.0</td>\n",
              "    </tr>\n",
              "  </tbody>\n",
              "</table>\n",
              "<p>81528 rows × 9 columns</p>\n",
              "</div>"
            ],
            "text/plain": [
              "       AGGR_DATE AGGR_HM BUZPLC_CODE  ... YMTC LAST_CHANGE_TIME VMTC\n",
              "562     20211001       0         188  ...  NaN   20211001015841  7.0\n",
              "563     20211001       0         188  ...  NaN   20211001015841  1.0\n",
              "564     20211001       0         188  ...  NaN   20211001015841  1.0\n",
              "565     20211001       0         188  ...  NaN   20211001015841  6.0\n",
              "566     20211001       0         188  ...  NaN   20211001015841  1.0\n",
              "...          ...     ...         ...  ...  ...              ...  ...\n",
              "304975  20211031     245         297  ...  NaN   20211031030521  1.0\n",
              "304976  20211031     245         297  ...  NaN   20211031030521  3.0\n",
              "304977  20211031     245         297  ...  NaN   20211031030521  2.0\n",
              "305584  20211031     245         762  ...  NaN   20211031030521  1.0\n",
              "305585  20211031     245         762  ...  NaN   20211031030521  1.0\n",
              "\n",
              "[81528 rows x 9 columns]"
            ]
          },
          "metadata": {},
          "execution_count": 66
        }
      ]
    },
    {
      "cell_type": "code",
      "metadata": {
        "id": "MRcASgifN13j"
      },
      "source": [
        "# data 처리 (가공)\n",
        "# 통행량 VMTC 문자열 ==> 정수령으로 변환\n",
        "# 데이터 프레임 .astype() 메서드 \n",
        "f_df = f_df.astype({'VMTC':'int'})"
      ],
      "execution_count": 67,
      "outputs": []
    },
    {
      "cell_type": "code",
      "metadata": {
        "colab": {
          "base_uri": "https://localhost:8080/"
        },
        "id": "ljDAsNhJQhpY",
        "outputId": "7eba1dea-da54-4550-e611-740182797e48"
      },
      "source": [
        "print(f_df.dtypes)"
      ],
      "execution_count": 72,
      "outputs": [
        {
          "output_type": "stream",
          "name": "stdout",
          "text": [
            "AGGR_DATE             object\n",
            "AGGR_HM               object\n",
            "BUZPLC_CODE           object\n",
            "INOUT_SE_CD           object\n",
            "TCS_CAR_KIND_SE_CD    object\n",
            "TCS_HIPASS_SE_CD      object\n",
            "YMTC                  object\n",
            "LAST_CHANGE_TIME      object\n",
            "VMTC                   int64\n",
            "dtype: object\n"
          ]
        }
      ]
    },
    {
      "cell_type": "code",
      "metadata": {
        "colab": {
          "base_uri": "https://localhost:8080/",
          "height": 676
        },
        "id": "2XfpdUkHQkAS",
        "outputId": "67acdd44-d1c0-4b9c-e20c-3d58e9cd5f5d"
      },
      "source": [
        "f_df.tail(20)"
      ],
      "execution_count": 73,
      "outputs": [
        {
          "output_type": "execute_result",
          "data": {
            "text/html": [
              "<div>\n",
              "<style scoped>\n",
              "    .dataframe tbody tr th:only-of-type {\n",
              "        vertical-align: middle;\n",
              "    }\n",
              "\n",
              "    .dataframe tbody tr th {\n",
              "        vertical-align: top;\n",
              "    }\n",
              "\n",
              "    .dataframe thead th {\n",
              "        text-align: right;\n",
              "    }\n",
              "</style>\n",
              "<table border=\"1\" class=\"dataframe\">\n",
              "  <thead>\n",
              "    <tr style=\"text-align: right;\">\n",
              "      <th></th>\n",
              "      <th>AGGR_DATE</th>\n",
              "      <th>AGGR_HM</th>\n",
              "      <th>BUZPLC_CODE</th>\n",
              "      <th>INOUT_SE_CD</th>\n",
              "      <th>TCS_CAR_KIND_SE_CD</th>\n",
              "      <th>TCS_HIPASS_SE_CD</th>\n",
              "      <th>YMTC</th>\n",
              "      <th>LAST_CHANGE_TIME</th>\n",
              "      <th>VMTC</th>\n",
              "    </tr>\n",
              "  </thead>\n",
              "  <tbody>\n",
              "    <tr>\n",
              "      <th>303589</th>\n",
              "      <td>20211031</td>\n",
              "      <td>2345</td>\n",
              "      <td>762</td>\n",
              "      <td>0</td>\n",
              "      <td>1</td>\n",
              "      <td>2</td>\n",
              "      <td>NaN</td>\n",
              "      <td>20211101004348</td>\n",
              "      <td>1</td>\n",
              "    </tr>\n",
              "    <tr>\n",
              "      <th>303590</th>\n",
              "      <td>20211031</td>\n",
              "      <td>2345</td>\n",
              "      <td>762</td>\n",
              "      <td>1</td>\n",
              "      <td>1</td>\n",
              "      <td>2</td>\n",
              "      <td>NaN</td>\n",
              "      <td>20211101004348</td>\n",
              "      <td>8</td>\n",
              "    </tr>\n",
              "    <tr>\n",
              "      <th>303953</th>\n",
              "      <td>20211031</td>\n",
              "      <td>245</td>\n",
              "      <td>188</td>\n",
              "      <td>0</td>\n",
              "      <td>1</td>\n",
              "      <td>2</td>\n",
              "      <td>NaN</td>\n",
              "      <td>20211031030521</td>\n",
              "      <td>4</td>\n",
              "    </tr>\n",
              "    <tr>\n",
              "      <th>303954</th>\n",
              "      <td>20211031</td>\n",
              "      <td>245</td>\n",
              "      <td>188</td>\n",
              "      <td>1</td>\n",
              "      <td>1</td>\n",
              "      <td>1</td>\n",
              "      <td>NaN</td>\n",
              "      <td>20211031030521</td>\n",
              "      <td>3</td>\n",
              "    </tr>\n",
              "    <tr>\n",
              "      <th>303955</th>\n",
              "      <td>20211031</td>\n",
              "      <td>245</td>\n",
              "      <td>188</td>\n",
              "      <td>1</td>\n",
              "      <td>1</td>\n",
              "      <td>2</td>\n",
              "      <td>NaN</td>\n",
              "      <td>20211031030521</td>\n",
              "      <td>4</td>\n",
              "    </tr>\n",
              "    <tr>\n",
              "      <th>304442</th>\n",
              "      <td>20211031</td>\n",
              "      <td>245</td>\n",
              "      <td>561</td>\n",
              "      <td>0</td>\n",
              "      <td>1</td>\n",
              "      <td>2</td>\n",
              "      <td>NaN</td>\n",
              "      <td>20211031030521</td>\n",
              "      <td>6</td>\n",
              "    </tr>\n",
              "    <tr>\n",
              "      <th>304443</th>\n",
              "      <td>20211031</td>\n",
              "      <td>245</td>\n",
              "      <td>561</td>\n",
              "      <td>0</td>\n",
              "      <td>3</td>\n",
              "      <td>2</td>\n",
              "      <td>NaN</td>\n",
              "      <td>20211031030521</td>\n",
              "      <td>1</td>\n",
              "    </tr>\n",
              "    <tr>\n",
              "      <th>304444</th>\n",
              "      <td>20211031</td>\n",
              "      <td>245</td>\n",
              "      <td>561</td>\n",
              "      <td>0</td>\n",
              "      <td>4</td>\n",
              "      <td>2</td>\n",
              "      <td>NaN</td>\n",
              "      <td>20211031030521</td>\n",
              "      <td>2</td>\n",
              "    </tr>\n",
              "    <tr>\n",
              "      <th>304445</th>\n",
              "      <td>20211031</td>\n",
              "      <td>245</td>\n",
              "      <td>561</td>\n",
              "      <td>1</td>\n",
              "      <td>1</td>\n",
              "      <td>1</td>\n",
              "      <td>NaN</td>\n",
              "      <td>20211031030521</td>\n",
              "      <td>2</td>\n",
              "    </tr>\n",
              "    <tr>\n",
              "      <th>304446</th>\n",
              "      <td>20211031</td>\n",
              "      <td>245</td>\n",
              "      <td>561</td>\n",
              "      <td>1</td>\n",
              "      <td>1</td>\n",
              "      <td>2</td>\n",
              "      <td>NaN</td>\n",
              "      <td>20211031030521</td>\n",
              "      <td>1</td>\n",
              "    </tr>\n",
              "    <tr>\n",
              "      <th>304447</th>\n",
              "      <td>20211031</td>\n",
              "      <td>245</td>\n",
              "      <td>561</td>\n",
              "      <td>1</td>\n",
              "      <td>4</td>\n",
              "      <td>2</td>\n",
              "      <td>NaN</td>\n",
              "      <td>20211031030521</td>\n",
              "      <td>1</td>\n",
              "    </tr>\n",
              "    <tr>\n",
              "      <th>304448</th>\n",
              "      <td>20211031</td>\n",
              "      <td>245</td>\n",
              "      <td>562</td>\n",
              "      <td>0</td>\n",
              "      <td>1</td>\n",
              "      <td>2</td>\n",
              "      <td>NaN</td>\n",
              "      <td>20211031030521</td>\n",
              "      <td>2</td>\n",
              "    </tr>\n",
              "    <tr>\n",
              "      <th>304449</th>\n",
              "      <td>20211031</td>\n",
              "      <td>245</td>\n",
              "      <td>562</td>\n",
              "      <td>1</td>\n",
              "      <td>1</td>\n",
              "      <td>1</td>\n",
              "      <td>NaN</td>\n",
              "      <td>20211031030521</td>\n",
              "      <td>2</td>\n",
              "    </tr>\n",
              "    <tr>\n",
              "      <th>304450</th>\n",
              "      <td>20211031</td>\n",
              "      <td>245</td>\n",
              "      <td>562</td>\n",
              "      <td>1</td>\n",
              "      <td>1</td>\n",
              "      <td>2</td>\n",
              "      <td>NaN</td>\n",
              "      <td>20211031030521</td>\n",
              "      <td>2</td>\n",
              "    </tr>\n",
              "    <tr>\n",
              "      <th>304974</th>\n",
              "      <td>20211031</td>\n",
              "      <td>245</td>\n",
              "      <td>297</td>\n",
              "      <td>0</td>\n",
              "      <td>1</td>\n",
              "      <td>2</td>\n",
              "      <td>NaN</td>\n",
              "      <td>20211031030521</td>\n",
              "      <td>4</td>\n",
              "    </tr>\n",
              "    <tr>\n",
              "      <th>304975</th>\n",
              "      <td>20211031</td>\n",
              "      <td>245</td>\n",
              "      <td>297</td>\n",
              "      <td>0</td>\n",
              "      <td>4</td>\n",
              "      <td>2</td>\n",
              "      <td>NaN</td>\n",
              "      <td>20211031030521</td>\n",
              "      <td>1</td>\n",
              "    </tr>\n",
              "    <tr>\n",
              "      <th>304976</th>\n",
              "      <td>20211031</td>\n",
              "      <td>245</td>\n",
              "      <td>297</td>\n",
              "      <td>0</td>\n",
              "      <td>5</td>\n",
              "      <td>2</td>\n",
              "      <td>NaN</td>\n",
              "      <td>20211031030521</td>\n",
              "      <td>3</td>\n",
              "    </tr>\n",
              "    <tr>\n",
              "      <th>304977</th>\n",
              "      <td>20211031</td>\n",
              "      <td>245</td>\n",
              "      <td>297</td>\n",
              "      <td>1</td>\n",
              "      <td>1</td>\n",
              "      <td>2</td>\n",
              "      <td>NaN</td>\n",
              "      <td>20211031030521</td>\n",
              "      <td>2</td>\n",
              "    </tr>\n",
              "    <tr>\n",
              "      <th>305584</th>\n",
              "      <td>20211031</td>\n",
              "      <td>245</td>\n",
              "      <td>762</td>\n",
              "      <td>1</td>\n",
              "      <td>1</td>\n",
              "      <td>2</td>\n",
              "      <td>NaN</td>\n",
              "      <td>20211031030521</td>\n",
              "      <td>1</td>\n",
              "    </tr>\n",
              "    <tr>\n",
              "      <th>305585</th>\n",
              "      <td>20211031</td>\n",
              "      <td>245</td>\n",
              "      <td>762</td>\n",
              "      <td>1</td>\n",
              "      <td>6</td>\n",
              "      <td>2</td>\n",
              "      <td>NaN</td>\n",
              "      <td>20211031030521</td>\n",
              "      <td>1</td>\n",
              "    </tr>\n",
              "  </tbody>\n",
              "</table>\n",
              "</div>"
            ],
            "text/plain": [
              "       AGGR_DATE AGGR_HM BUZPLC_CODE  ... YMTC LAST_CHANGE_TIME VMTC\n",
              "303589  20211031    2345         762  ...  NaN   20211101004348    1\n",
              "303590  20211031    2345         762  ...  NaN   20211101004348    8\n",
              "303953  20211031     245         188  ...  NaN   20211031030521    4\n",
              "303954  20211031     245         188  ...  NaN   20211031030521    3\n",
              "303955  20211031     245         188  ...  NaN   20211031030521    4\n",
              "304442  20211031     245         561  ...  NaN   20211031030521    6\n",
              "304443  20211031     245         561  ...  NaN   20211031030521    1\n",
              "304444  20211031     245         561  ...  NaN   20211031030521    2\n",
              "304445  20211031     245         561  ...  NaN   20211031030521    2\n",
              "304446  20211031     245         561  ...  NaN   20211031030521    1\n",
              "304447  20211031     245         561  ...  NaN   20211031030521    1\n",
              "304448  20211031     245         562  ...  NaN   20211031030521    2\n",
              "304449  20211031     245         562  ...  NaN   20211031030521    2\n",
              "304450  20211031     245         562  ...  NaN   20211031030521    2\n",
              "304974  20211031     245         297  ...  NaN   20211031030521    4\n",
              "304975  20211031     245         297  ...  NaN   20211031030521    1\n",
              "304976  20211031     245         297  ...  NaN   20211031030521    3\n",
              "304977  20211031     245         297  ...  NaN   20211031030521    2\n",
              "305584  20211031     245         762  ...  NaN   20211031030521    1\n",
              "305585  20211031     245         762  ...  NaN   20211031030521    1\n",
              "\n",
              "[20 rows x 9 columns]"
            ]
          },
          "metadata": {},
          "execution_count": 73
        }
      ]
    },
    {
      "cell_type": "code",
      "metadata": {
        "id": "JrVgMcvQReuU"
      },
      "source": [
        "#string 인 AGGR_DATE 를 datetime 으로 변환 \n",
        "f_df['mDateTime'] = pd.to_datetime(f_df['AGGR_DATE'],format='%Y%m%d')"
      ],
      "execution_count": 75,
      "outputs": []
    },
    {
      "cell_type": "code",
      "metadata": {
        "colab": {
          "base_uri": "https://localhost:8080/",
          "height": 206
        },
        "id": "lg04V-RKSkqL",
        "outputId": "e16530a1-b735-4d1c-8eee-a636e46be7d1"
      },
      "source": [
        "f_df.head(5)"
      ],
      "execution_count": 76,
      "outputs": [
        {
          "output_type": "execute_result",
          "data": {
            "text/html": [
              "<div>\n",
              "<style scoped>\n",
              "    .dataframe tbody tr th:only-of-type {\n",
              "        vertical-align: middle;\n",
              "    }\n",
              "\n",
              "    .dataframe tbody tr th {\n",
              "        vertical-align: top;\n",
              "    }\n",
              "\n",
              "    .dataframe thead th {\n",
              "        text-align: right;\n",
              "    }\n",
              "</style>\n",
              "<table border=\"1\" class=\"dataframe\">\n",
              "  <thead>\n",
              "    <tr style=\"text-align: right;\">\n",
              "      <th></th>\n",
              "      <th>AGGR_DATE</th>\n",
              "      <th>AGGR_HM</th>\n",
              "      <th>BUZPLC_CODE</th>\n",
              "      <th>INOUT_SE_CD</th>\n",
              "      <th>TCS_CAR_KIND_SE_CD</th>\n",
              "      <th>TCS_HIPASS_SE_CD</th>\n",
              "      <th>YMTC</th>\n",
              "      <th>LAST_CHANGE_TIME</th>\n",
              "      <th>VMTC</th>\n",
              "      <th>mDateTime</th>\n",
              "    </tr>\n",
              "  </thead>\n",
              "  <tbody>\n",
              "    <tr>\n",
              "      <th>562</th>\n",
              "      <td>20211001</td>\n",
              "      <td>0</td>\n",
              "      <td>188</td>\n",
              "      <td>0</td>\n",
              "      <td>1</td>\n",
              "      <td>2</td>\n",
              "      <td>NaN</td>\n",
              "      <td>20211001015841</td>\n",
              "      <td>7</td>\n",
              "      <td>2021-10-01</td>\n",
              "    </tr>\n",
              "    <tr>\n",
              "      <th>563</th>\n",
              "      <td>20211001</td>\n",
              "      <td>0</td>\n",
              "      <td>188</td>\n",
              "      <td>0</td>\n",
              "      <td>5</td>\n",
              "      <td>2</td>\n",
              "      <td>NaN</td>\n",
              "      <td>20211001015841</td>\n",
              "      <td>1</td>\n",
              "      <td>2021-10-01</td>\n",
              "    </tr>\n",
              "    <tr>\n",
              "      <th>564</th>\n",
              "      <td>20211001</td>\n",
              "      <td>0</td>\n",
              "      <td>188</td>\n",
              "      <td>1</td>\n",
              "      <td>1</td>\n",
              "      <td>1</td>\n",
              "      <td>NaN</td>\n",
              "      <td>20211001015841</td>\n",
              "      <td>1</td>\n",
              "      <td>2021-10-01</td>\n",
              "    </tr>\n",
              "    <tr>\n",
              "      <th>565</th>\n",
              "      <td>20211001</td>\n",
              "      <td>0</td>\n",
              "      <td>188</td>\n",
              "      <td>1</td>\n",
              "      <td>1</td>\n",
              "      <td>2</td>\n",
              "      <td>NaN</td>\n",
              "      <td>20211001015841</td>\n",
              "      <td>6</td>\n",
              "      <td>2021-10-01</td>\n",
              "    </tr>\n",
              "    <tr>\n",
              "      <th>566</th>\n",
              "      <td>20211001</td>\n",
              "      <td>0</td>\n",
              "      <td>188</td>\n",
              "      <td>1</td>\n",
              "      <td>3</td>\n",
              "      <td>2</td>\n",
              "      <td>NaN</td>\n",
              "      <td>20211001015841</td>\n",
              "      <td>1</td>\n",
              "      <td>2021-10-01</td>\n",
              "    </tr>\n",
              "  </tbody>\n",
              "</table>\n",
              "</div>"
            ],
            "text/plain": [
              "    AGGR_DATE AGGR_HM BUZPLC_CODE  ... LAST_CHANGE_TIME VMTC  mDateTime\n",
              "562  20211001       0         188  ...   20211001015841    7 2021-10-01\n",
              "563  20211001       0         188  ...   20211001015841    1 2021-10-01\n",
              "564  20211001       0         188  ...   20211001015841    1 2021-10-01\n",
              "565  20211001       0         188  ...   20211001015841    6 2021-10-01\n",
              "566  20211001       0         188  ...   20211001015841    1 2021-10-01\n",
              "\n",
              "[5 rows x 10 columns]"
            ]
          },
          "metadata": {},
          "execution_count": 76
        }
      ]
    },
    {
      "cell_type": "code",
      "metadata": {
        "id": "Ky00Fc5aSwqz"
      },
      "source": [
        "# datatime 형식의 문자열로부터 연 월 일 추출 \n",
        "f_df['year'] =pd.DatetimeIndex(f_df['mDateTime']).year\n",
        "f_df['month'] =pd.DatetimeIndex(f_df['mDateTime']).month\n",
        "f_df['date'] =pd.DatetimeIndex(f_df['mDateTime']).day"
      ],
      "execution_count": 81,
      "outputs": []
    },
    {
      "cell_type": "code",
      "metadata": {
        "colab": {
          "base_uri": "https://localhost:8080/",
          "height": 423
        },
        "id": "pZyYaViNTSLu",
        "outputId": "b8b1b2d9-0931-410f-ebd2-953aa24cd2bd"
      },
      "source": [
        "f_df"
      ],
      "execution_count": 82,
      "outputs": [
        {
          "output_type": "execute_result",
          "data": {
            "text/html": [
              "<div>\n",
              "<style scoped>\n",
              "    .dataframe tbody tr th:only-of-type {\n",
              "        vertical-align: middle;\n",
              "    }\n",
              "\n",
              "    .dataframe tbody tr th {\n",
              "        vertical-align: top;\n",
              "    }\n",
              "\n",
              "    .dataframe thead th {\n",
              "        text-align: right;\n",
              "    }\n",
              "</style>\n",
              "<table border=\"1\" class=\"dataframe\">\n",
              "  <thead>\n",
              "    <tr style=\"text-align: right;\">\n",
              "      <th></th>\n",
              "      <th>AGGR_DATE</th>\n",
              "      <th>AGGR_HM</th>\n",
              "      <th>BUZPLC_CODE</th>\n",
              "      <th>INOUT_SE_CD</th>\n",
              "      <th>TCS_CAR_KIND_SE_CD</th>\n",
              "      <th>TCS_HIPASS_SE_CD</th>\n",
              "      <th>YMTC</th>\n",
              "      <th>LAST_CHANGE_TIME</th>\n",
              "      <th>VMTC</th>\n",
              "      <th>mDateTime</th>\n",
              "      <th>year</th>\n",
              "      <th>month</th>\n",
              "      <th>date</th>\n",
              "    </tr>\n",
              "  </thead>\n",
              "  <tbody>\n",
              "    <tr>\n",
              "      <th>562</th>\n",
              "      <td>20211001</td>\n",
              "      <td>0</td>\n",
              "      <td>188</td>\n",
              "      <td>0</td>\n",
              "      <td>1</td>\n",
              "      <td>2</td>\n",
              "      <td>NaN</td>\n",
              "      <td>20211001015841</td>\n",
              "      <td>7</td>\n",
              "      <td>2021-10-01</td>\n",
              "      <td>2021</td>\n",
              "      <td>10</td>\n",
              "      <td>1</td>\n",
              "    </tr>\n",
              "    <tr>\n",
              "      <th>563</th>\n",
              "      <td>20211001</td>\n",
              "      <td>0</td>\n",
              "      <td>188</td>\n",
              "      <td>0</td>\n",
              "      <td>5</td>\n",
              "      <td>2</td>\n",
              "      <td>NaN</td>\n",
              "      <td>20211001015841</td>\n",
              "      <td>1</td>\n",
              "      <td>2021-10-01</td>\n",
              "      <td>2021</td>\n",
              "      <td>10</td>\n",
              "      <td>1</td>\n",
              "    </tr>\n",
              "    <tr>\n",
              "      <th>564</th>\n",
              "      <td>20211001</td>\n",
              "      <td>0</td>\n",
              "      <td>188</td>\n",
              "      <td>1</td>\n",
              "      <td>1</td>\n",
              "      <td>1</td>\n",
              "      <td>NaN</td>\n",
              "      <td>20211001015841</td>\n",
              "      <td>1</td>\n",
              "      <td>2021-10-01</td>\n",
              "      <td>2021</td>\n",
              "      <td>10</td>\n",
              "      <td>1</td>\n",
              "    </tr>\n",
              "    <tr>\n",
              "      <th>565</th>\n",
              "      <td>20211001</td>\n",
              "      <td>0</td>\n",
              "      <td>188</td>\n",
              "      <td>1</td>\n",
              "      <td>1</td>\n",
              "      <td>2</td>\n",
              "      <td>NaN</td>\n",
              "      <td>20211001015841</td>\n",
              "      <td>6</td>\n",
              "      <td>2021-10-01</td>\n",
              "      <td>2021</td>\n",
              "      <td>10</td>\n",
              "      <td>1</td>\n",
              "    </tr>\n",
              "    <tr>\n",
              "      <th>566</th>\n",
              "      <td>20211001</td>\n",
              "      <td>0</td>\n",
              "      <td>188</td>\n",
              "      <td>1</td>\n",
              "      <td>3</td>\n",
              "      <td>2</td>\n",
              "      <td>NaN</td>\n",
              "      <td>20211001015841</td>\n",
              "      <td>1</td>\n",
              "      <td>2021-10-01</td>\n",
              "      <td>2021</td>\n",
              "      <td>10</td>\n",
              "      <td>1</td>\n",
              "    </tr>\n",
              "    <tr>\n",
              "      <th>...</th>\n",
              "      <td>...</td>\n",
              "      <td>...</td>\n",
              "      <td>...</td>\n",
              "      <td>...</td>\n",
              "      <td>...</td>\n",
              "      <td>...</td>\n",
              "      <td>...</td>\n",
              "      <td>...</td>\n",
              "      <td>...</td>\n",
              "      <td>...</td>\n",
              "      <td>...</td>\n",
              "      <td>...</td>\n",
              "      <td>...</td>\n",
              "    </tr>\n",
              "    <tr>\n",
              "      <th>304975</th>\n",
              "      <td>20211031</td>\n",
              "      <td>245</td>\n",
              "      <td>297</td>\n",
              "      <td>0</td>\n",
              "      <td>4</td>\n",
              "      <td>2</td>\n",
              "      <td>NaN</td>\n",
              "      <td>20211031030521</td>\n",
              "      <td>1</td>\n",
              "      <td>2021-10-31</td>\n",
              "      <td>2021</td>\n",
              "      <td>10</td>\n",
              "      <td>31</td>\n",
              "    </tr>\n",
              "    <tr>\n",
              "      <th>304976</th>\n",
              "      <td>20211031</td>\n",
              "      <td>245</td>\n",
              "      <td>297</td>\n",
              "      <td>0</td>\n",
              "      <td>5</td>\n",
              "      <td>2</td>\n",
              "      <td>NaN</td>\n",
              "      <td>20211031030521</td>\n",
              "      <td>3</td>\n",
              "      <td>2021-10-31</td>\n",
              "      <td>2021</td>\n",
              "      <td>10</td>\n",
              "      <td>31</td>\n",
              "    </tr>\n",
              "    <tr>\n",
              "      <th>304977</th>\n",
              "      <td>20211031</td>\n",
              "      <td>245</td>\n",
              "      <td>297</td>\n",
              "      <td>1</td>\n",
              "      <td>1</td>\n",
              "      <td>2</td>\n",
              "      <td>NaN</td>\n",
              "      <td>20211031030521</td>\n",
              "      <td>2</td>\n",
              "      <td>2021-10-31</td>\n",
              "      <td>2021</td>\n",
              "      <td>10</td>\n",
              "      <td>31</td>\n",
              "    </tr>\n",
              "    <tr>\n",
              "      <th>305584</th>\n",
              "      <td>20211031</td>\n",
              "      <td>245</td>\n",
              "      <td>762</td>\n",
              "      <td>1</td>\n",
              "      <td>1</td>\n",
              "      <td>2</td>\n",
              "      <td>NaN</td>\n",
              "      <td>20211031030521</td>\n",
              "      <td>1</td>\n",
              "      <td>2021-10-31</td>\n",
              "      <td>2021</td>\n",
              "      <td>10</td>\n",
              "      <td>31</td>\n",
              "    </tr>\n",
              "    <tr>\n",
              "      <th>305585</th>\n",
              "      <td>20211031</td>\n",
              "      <td>245</td>\n",
              "      <td>762</td>\n",
              "      <td>1</td>\n",
              "      <td>6</td>\n",
              "      <td>2</td>\n",
              "      <td>NaN</td>\n",
              "      <td>20211031030521</td>\n",
              "      <td>1</td>\n",
              "      <td>2021-10-31</td>\n",
              "      <td>2021</td>\n",
              "      <td>10</td>\n",
              "      <td>31</td>\n",
              "    </tr>\n",
              "  </tbody>\n",
              "</table>\n",
              "<p>81528 rows × 13 columns</p>\n",
              "</div>"
            ],
            "text/plain": [
              "       AGGR_DATE AGGR_HM BUZPLC_CODE INOUT_SE_CD  ...  mDateTime  year month date\n",
              "562     20211001       0         188           0  ... 2021-10-01  2021    10    1\n",
              "563     20211001       0         188           0  ... 2021-10-01  2021    10    1\n",
              "564     20211001       0         188           1  ... 2021-10-01  2021    10    1\n",
              "565     20211001       0         188           1  ... 2021-10-01  2021    10    1\n",
              "566     20211001       0         188           1  ... 2021-10-01  2021    10    1\n",
              "...          ...     ...         ...         ...  ...        ...   ...   ...  ...\n",
              "304975  20211031     245         297           0  ... 2021-10-31  2021    10   31\n",
              "304976  20211031     245         297           0  ... 2021-10-31  2021    10   31\n",
              "304977  20211031     245         297           1  ... 2021-10-31  2021    10   31\n",
              "305584  20211031     245         762           1  ... 2021-10-31  2021    10   31\n",
              "305585  20211031     245         762           1  ... 2021-10-31  2021    10   31\n",
              "\n",
              "[81528 rows x 13 columns]"
            ]
          },
          "metadata": {},
          "execution_count": 82
        }
      ]
    },
    {
      "cell_type": "code",
      "metadata": {
        "id": "O2NbbJepTT7p"
      },
      "source": [
        ""
      ],
      "execution_count": null,
      "outputs": []
    }
  ]
}
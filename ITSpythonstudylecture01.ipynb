{
  "nbformat": 4,
  "nbformat_minor": 0,
  "metadata": {
    "colab": {
      "name": "ITSpythonstudylecture01.ipynb",
      "provenance": [],
      "collapsed_sections": [],
      "authorship_tag": "ABX9TyPHu08WNvxFi6m7sA7X5wg7",
      "include_colab_link": true
    },
    "kernelspec": {
      "name": "python3",
      "display_name": "Python 3"
    },
    "language_info": {
      "name": "python"
    }
  },
  "cells": [
    {
      "cell_type": "markdown",
      "metadata": {
        "id": "view-in-github",
        "colab_type": "text"
      },
      "source": [
        "<a href=\"https://colab.research.google.com/github/PI-hamin/ITS-study-IDF-/blob/main/ITSpythonstudylecture01.ipynb\" target=\"_parent\"><img src=\"https://colab.research.google.com/assets/colab-badge.svg\" alt=\"Open In Colab\"/></a>"
      ]
    },
    {
      "cell_type": "code",
      "metadata": {
        "id": "pLIl-w0UDmzT"
      },
      "source": [
        "# Pandas = data 분석을 위한 tool 제공 \n",
        "# numpy 등과 함께 사용됨."
      ],
      "execution_count": 1,
      "outputs": []
    },
    {
      "cell_type": "markdown",
      "metadata": {
        "id": "SorhAZL1GQBZ"
      },
      "source": [
        "# 01-01Series"
      ]
    },
    {
      "cell_type": "code",
      "metadata": {
        "id": "ug75chx5GGWT"
      },
      "source": [
        "#Serise 는 값의 배열 과 인덱스의 배령로 구현 "
      ],
      "execution_count": 3,
      "outputs": []
    },
    {
      "cell_type": "code",
      "metadata": {
        "id": "Rr14nV4OGLFY"
      },
      "source": [
        "#필요한 라이브러리 import\n",
        "import pandas as pd\n",
        "import numpy as np"
      ],
      "execution_count": 4,
      "outputs": []
    },
    {
      "cell_type": "code",
      "metadata": {
        "colab": {
          "base_uri": "https://localhost:8080/"
        },
        "id": "w6jQjxMLGk_i",
        "outputId": "46aa40d1-0d6e-446d-b907-ad5f5c585c49"
      },
      "source": [
        "s1 = pd.Series(['a','b','c'])\n",
        "print (type(s1))"
      ],
      "execution_count": 5,
      "outputs": [
        {
          "output_type": "stream",
          "name": "stdout",
          "text": [
            "<class 'pandas.core.series.Series'>\n"
          ]
        }
      ]
    },
    {
      "cell_type": "code",
      "metadata": {
        "colab": {
          "base_uri": "https://localhost:8080/"
        },
        "id": "IG25IG9lG65R",
        "outputId": "8c191ef5-307f-410d-cbfa-552412a5ed04"
      },
      "source": [
        "s1"
      ],
      "execution_count": 6,
      "outputs": [
        {
          "output_type": "execute_result",
          "data": {
            "text/plain": [
              "0    a\n",
              "1    b\n",
              "2    c\n",
              "dtype: object"
            ]
          },
          "metadata": {},
          "execution_count": 6
        }
      ]
    },
    {
      "cell_type": "code",
      "metadata": {
        "id": "apzmEi_AG93Z"
      },
      "source": [
        "#Serise 는 별도의 인덱스를 지정하지 않으면 0부터 인덱스됨. "
      ],
      "execution_count": 7,
      "outputs": []
    },
    {
      "cell_type": "code",
      "metadata": {
        "colab": {
          "base_uri": "https://localhost:8080/"
        },
        "id": "dkMQPeGbHiCI",
        "outputId": "90bba075-952f-42b4-b04c-25b60dc49c66"
      },
      "source": [
        "s2=pd.Series(['a','b','c'],index=['col1','col2','col3'])\n",
        "s2"
      ],
      "execution_count": 10,
      "outputs": [
        {
          "output_type": "execute_result",
          "data": {
            "text/plain": [
              "col1    a\n",
              "col2    b\n",
              "col3    c\n",
              "dtype: object"
            ]
          },
          "metadata": {},
          "execution_count": 10
        }
      ]
    },
    {
      "cell_type": "code",
      "metadata": {
        "colab": {
          "base_uri": "https://localhost:8080/"
        },
        "id": "b3fUfklGH08x",
        "outputId": "5b88cae1-910e-41d8-8841-3a36cfe713af"
      },
      "source": [
        "s2.index"
      ],
      "execution_count": 11,
      "outputs": [
        {
          "output_type": "execute_result",
          "data": {
            "text/plain": [
              "Index(['col1', 'col2', 'col3'], dtype='object')"
            ]
          },
          "metadata": {},
          "execution_count": 11
        }
      ]
    },
    {
      "cell_type": "code",
      "metadata": {
        "colab": {
          "base_uri": "https://localhost:8080/"
        },
        "id": "mBjzGRQZIFQw",
        "outputId": "66e07980-12d2-4a6f-cb9b-865814488a53"
      },
      "source": [
        "s2.values"
      ],
      "execution_count": 13,
      "outputs": [
        {
          "output_type": "execute_result",
          "data": {
            "text/plain": [
              "array(['a', 'b', 'c'], dtype=object)"
            ]
          },
          "metadata": {},
          "execution_count": 13
        }
      ]
    },
    {
      "cell_type": "code",
      "metadata": {
        "id": "w7Nvvq9tIJPg"
      },
      "source": [
        "# Python 딕셔너리 전달"
      ],
      "execution_count": 15,
      "outputs": []
    },
    {
      "cell_type": "code",
      "metadata": {
        "id": "DTqMGfuGIe_L"
      },
      "source": [
        "d={\"이름\":\"조운\",\"통솔\":91,\"무력\":97,\"지력\":52,\"정치\":91,\"매력\":77}"
      ],
      "execution_count": 17,
      "outputs": []
    },
    {
      "cell_type": "code",
      "metadata": {
        "id": "CuwESr-CJESX"
      },
      "source": [
        "s3=pd.Series(d)"
      ],
      "execution_count": 19,
      "outputs": []
    },
    {
      "cell_type": "code",
      "metadata": {
        "colab": {
          "base_uri": "https://localhost:8080/"
        },
        "id": "SKorM_yjJL_J",
        "outputId": "45a477bd-5dd1-418c-efd1-48aa4ec5aa68"
      },
      "source": [
        "print (s3)"
      ],
      "execution_count": 20,
      "outputs": [
        {
          "output_type": "stream",
          "name": "stdout",
          "text": [
            "이름    조운\n",
            "통솔    91\n",
            "무력    97\n",
            "지력    52\n",
            "정치    91\n",
            "매력    77\n",
            "dtype: object\n"
          ]
        }
      ]
    },
    {
      "cell_type": "code",
      "metadata": {
        "id": "2Rnt-gaLJRdr"
      },
      "source": [
        "#reindex (순서변경 또는 인덱스 추가제거)"
      ],
      "execution_count": 21,
      "outputs": []
    },
    {
      "cell_type": "code",
      "metadata": {
        "id": "MbxkrOq2KP_e"
      },
      "source": [
        "s2=pd.Series(['조조',96,95,87,32,93],index=['이름','통솔','정치','매력','지력','무력'])"
      ],
      "execution_count": 23,
      "outputs": []
    },
    {
      "cell_type": "code",
      "metadata": {
        "id": "JQLu4J0mKvwR"
      },
      "source": [
        "s3=s2.reindex(['이름','무력','지력','정치','매력','통솔'])"
      ],
      "execution_count": 44,
      "outputs": []
    },
    {
      "cell_type": "code",
      "metadata": {
        "colab": {
          "base_uri": "https://localhost:8080/"
        },
        "id": "gw2XbLsBLBq4",
        "outputId": "1efe6319-4f46-498a-d74f-979ac70f04d8"
      },
      "source": [
        "s3"
      ],
      "execution_count": 45,
      "outputs": [
        {
          "output_type": "execute_result",
          "data": {
            "text/plain": [
              "이름    조조\n",
              "무력    93\n",
              "지력    32\n",
              "정치    95\n",
              "매력    87\n",
              "통솔    96\n",
              "dtype: object"
            ]
          },
          "metadata": {},
          "execution_count": 45
        }
      ]
    },
    {
      "cell_type": "code",
      "metadata": {
        "id": "7P6AGp44LuTA"
      },
      "source": [
        "s4=s2.reindex(['이름','무력','지력','정치','매력','통솔','테스트'])"
      ],
      "execution_count": 46,
      "outputs": []
    },
    {
      "cell_type": "markdown",
      "metadata": {
        "id": "A42VEkC2NhUM"
      },
      "source": [
        ""
      ]
    },
    {
      "cell_type": "code",
      "metadata": {
        "colab": {
          "base_uri": "https://localhost:8080/"
        },
        "id": "PRECfcvvL6wS",
        "outputId": "d0010d43-145c-46d4-9abf-f307b7c60fe4"
      },
      "source": [
        "s4"
      ],
      "execution_count": 47,
      "outputs": [
        {
          "output_type": "execute_result",
          "data": {
            "text/plain": [
              "이름      조조\n",
              "무력      93\n",
              "지력      32\n",
              "정치      95\n",
              "매력      87\n",
              "통솔      96\n",
              "테스트    NaN\n",
              "dtype: object"
            ]
          },
          "metadata": {},
          "execution_count": 47
        }
      ]
    },
    {
      "cell_type": "code",
      "metadata": {
        "colab": {
          "base_uri": "https://localhost:8080/",
          "height": 35
        },
        "id": "2Lp3X46cL7fI",
        "outputId": "84aa049d-6eb5-491e-ab2a-d701cca48a52"
      },
      "source": [
        "s4['이름']"
      ],
      "execution_count": 48,
      "outputs": [
        {
          "output_type": "execute_result",
          "data": {
            "application/vnd.google.colaboratory.intrinsic+json": {
              "type": "string"
            },
            "text/plain": [
              "'조조'"
            ]
          },
          "metadata": {},
          "execution_count": 48
        }
      ]
    },
    {
      "cell_type": "code",
      "metadata": {
        "colab": {
          "base_uri": "https://localhost:8080/",
          "height": 35
        },
        "id": "vA-ZyuxJMfnS",
        "outputId": "d9b67e64-a704-45cf-9f6c-515da12df062"
      },
      "source": [
        "s4[0]"
      ],
      "execution_count": 49,
      "outputs": [
        {
          "output_type": "execute_result",
          "data": {
            "application/vnd.google.colaboratory.intrinsic+json": {
              "type": "string"
            },
            "text/plain": [
              "'조조'"
            ]
          },
          "metadata": {},
          "execution_count": 49
        }
      ]
    },
    {
      "cell_type": "code",
      "metadata": {
        "colab": {
          "base_uri": "https://localhost:8080/"
        },
        "id": "taKJXVC6Mh8B",
        "outputId": "12fa6d92-e469-48d7-8d35-9d2230f1c112"
      },
      "source": [
        "s4[['이름','테스트','통솔']]"
      ],
      "execution_count": 50,
      "outputs": [
        {
          "output_type": "execute_result",
          "data": {
            "text/plain": [
              "이름      조조\n",
              "테스트    NaN\n",
              "통솔      96\n",
              "dtype: object"
            ]
          },
          "metadata": {},
          "execution_count": 50
        }
      ]
    },
    {
      "cell_type": "code",
      "metadata": {
        "colab": {
          "base_uri": "https://localhost:8080/"
        },
        "id": "QtSB-mRaNCBY",
        "outputId": "65b52ace-d6cc-4ce3-e692-eba8807b36ec"
      },
      "source": [
        "s4[s4.notnull()]"
      ],
      "execution_count": 51,
      "outputs": [
        {
          "output_type": "execute_result",
          "data": {
            "text/plain": [
              "이름    조조\n",
              "무력    93\n",
              "지력    32\n",
              "정치    95\n",
              "매력    87\n",
              "통솔    96\n",
              "dtype: object"
            ]
          },
          "metadata": {},
          "execution_count": 51
        }
      ]
    },
    {
      "cell_type": "code",
      "metadata": {
        "colab": {
          "base_uri": "https://localhost:8080/"
        },
        "id": "YPBAKm2ENC-g",
        "outputId": "4947c7ec-78f0-4497-9555-73fe849c737e"
      },
      "source": [
        "s4[s4.isnull()]"
      ],
      "execution_count": 52,
      "outputs": [
        {
          "output_type": "execute_result",
          "data": {
            "text/plain": [
              "테스트    NaN\n",
              "dtype: object"
            ]
          },
          "metadata": {},
          "execution_count": 52
        }
      ]
    },
    {
      "cell_type": "code",
      "metadata": {
        "id": "TtMNefLqND1o"
      },
      "source": [
        "s4['이름']='유비'"
      ],
      "execution_count": 53,
      "outputs": []
    },
    {
      "cell_type": "code",
      "metadata": {
        "colab": {
          "base_uri": "https://localhost:8080/"
        },
        "id": "DHt0ro-3N1U-",
        "outputId": "cd2e3a88-bd98-4cdb-be65-9eb118a6847a"
      },
      "source": [
        "s4"
      ],
      "execution_count": 54,
      "outputs": [
        {
          "output_type": "execute_result",
          "data": {
            "text/plain": [
              "이름      유비\n",
              "무력      93\n",
              "지력      32\n",
              "정치      95\n",
              "매력      87\n",
              "통솔      96\n",
              "테스트    NaN\n",
              "dtype: object"
            ]
          },
          "metadata": {},
          "execution_count": 54
        }
      ]
    },
    {
      "cell_type": "code",
      "metadata": {
        "id": "ttgzRDSmN2LB"
      },
      "source": [
        "s=pd.Series(np.random.randn(10))"
      ],
      "execution_count": 55,
      "outputs": []
    },
    {
      "cell_type": "code",
      "metadata": {
        "colab": {
          "base_uri": "https://localhost:8080/"
        },
        "id": "Z4TZocBuSGI1",
        "outputId": "ece8ffd9-0f83-45df-9fbb-3cad142e0fa0"
      },
      "source": [
        "s"
      ],
      "execution_count": 56,
      "outputs": [
        {
          "output_type": "execute_result",
          "data": {
            "text/plain": [
              "0    0.108820\n",
              "1    0.481712\n",
              "2    0.263324\n",
              "3   -2.149588\n",
              "4    0.124831\n",
              "5    0.294823\n",
              "6    0.836440\n",
              "7   -0.651919\n",
              "8   -0.801546\n",
              "9    0.047654\n",
              "dtype: float64"
            ]
          },
          "metadata": {},
          "execution_count": 56
        }
      ]
    },
    {
      "cell_type": "code",
      "metadata": {
        "colab": {
          "base_uri": "https://localhost:8080/"
        },
        "id": "qqGZFRTmSGuB",
        "outputId": "3f13f9c2-58c9-4dda-c1e2-8ebcf92a6d9b"
      },
      "source": [
        "# 통계정보 확인 (기본통계량)\n",
        "s.describe()"
      ],
      "execution_count": 58,
      "outputs": [
        {
          "output_type": "execute_result",
          "data": {
            "text/plain": [
              "count    10.000000\n",
              "mean     -0.144545\n",
              "std       0.856148\n",
              "min      -2.149588\n",
              "25%      -0.477026\n",
              "50%       0.116825\n",
              "75%       0.286948\n",
              "max       0.836440\n",
              "dtype: float64"
            ]
          },
          "metadata": {},
          "execution_count": 58
        }
      ]
    },
    {
      "cell_type": "code",
      "metadata": {
        "colab": {
          "base_uri": "https://localhost:8080/"
        },
        "id": "DFxeYgVeTEl4",
        "outputId": "5e8aeb11-0a50-43e1-c6dd-4786c7862dc1"
      },
      "source": [
        "s.mean()"
      ],
      "execution_count": 62,
      "outputs": [
        {
          "output_type": "execute_result",
          "data": {
            "text/plain": [
              "-0.1445449212159126"
            ]
          },
          "metadata": {},
          "execution_count": 62
        }
      ]
    },
    {
      "cell_type": "code",
      "metadata": {
        "id": "f6FEtZRMTaXY"
      },
      "source": [
        "s=pd.Series([1,2,3,np.nan]*3)"
      ],
      "execution_count": 64,
      "outputs": []
    },
    {
      "cell_type": "code",
      "metadata": {
        "colab": {
          "base_uri": "https://localhost:8080/"
        },
        "id": "0RMbHfOoTydg",
        "outputId": "21ac7680-d80b-4d43-903a-1b10f992dc0e"
      },
      "source": [
        "s"
      ],
      "execution_count": 65,
      "outputs": [
        {
          "output_type": "execute_result",
          "data": {
            "text/plain": [
              "0     1.0\n",
              "1     2.0\n",
              "2     3.0\n",
              "3     NaN\n",
              "4     1.0\n",
              "5     2.0\n",
              "6     3.0\n",
              "7     NaN\n",
              "8     1.0\n",
              "9     2.0\n",
              "10    3.0\n",
              "11    NaN\n",
              "dtype: float64"
            ]
          },
          "metadata": {},
          "execution_count": 65
        }
      ]
    },
    {
      "cell_type": "code",
      "metadata": {
        "colab": {
          "base_uri": "https://localhost:8080/"
        },
        "id": "fsS28cL8T0q4",
        "outputId": "796bdeb6-f635-47ee-f2f8-d3db2f75b440"
      },
      "source": [
        "s.value_counts(dropna=False)"
      ],
      "execution_count": 69,
      "outputs": [
        {
          "output_type": "execute_result",
          "data": {
            "text/plain": [
              "NaN    3\n",
              "3.0    3\n",
              "2.0    3\n",
              "1.0    3\n",
              "dtype: int64"
            ]
          },
          "metadata": {},
          "execution_count": 69
        }
      ]
    },
    {
      "cell_type": "code",
      "metadata": {
        "colab": {
          "base_uri": "https://localhost:8080/"
        },
        "id": "iq-ByszKUK4o",
        "outputId": "746caa13-99e1-499b-ea00-d99f357131cd"
      },
      "source": [
        "s.value_counts"
      ],
      "execution_count": 70,
      "outputs": [
        {
          "output_type": "execute_result",
          "data": {
            "text/plain": [
              "<bound method IndexOpsMixin.value_counts of 0     1.0\n",
              "1     2.0\n",
              "2     3.0\n",
              "3     NaN\n",
              "4     1.0\n",
              "5     2.0\n",
              "6     3.0\n",
              "7     NaN\n",
              "8     1.0\n",
              "9     2.0\n",
              "10    3.0\n",
              "11    NaN\n",
              "dtype: float64>"
            ]
          },
          "metadata": {},
          "execution_count": 70
        }
      ]
    },
    {
      "cell_type": "code",
      "metadata": {
        "id": "dCy_bCEkWO97"
      },
      "source": [
        "#mapping (값대치)"
      ],
      "execution_count": 77,
      "outputs": []
    },
    {
      "cell_type": "code",
      "metadata": {
        "id": "Ei3KfY8AUha3"
      },
      "source": [
        "e=pd.Series([1,2,3,0]*3)"
      ],
      "execution_count": 74,
      "outputs": []
    },
    {
      "cell_type": "code",
      "metadata": {
        "id": "fma-Py73V96X"
      },
      "source": [
        "mapping={1:\"고려\",2:\"서울\",3:\"육사\"}"
      ],
      "execution_count": 78,
      "outputs": []
    },
    {
      "cell_type": "code",
      "metadata": {
        "colab": {
          "base_uri": "https://localhost:8080/"
        },
        "id": "VQFc2q0PWGsg",
        "outputId": "4b36301a-71ff-499d-e9f4-8c943c2f653b"
      },
      "source": [
        "s.map(mapping)"
      ],
      "execution_count": 79,
      "outputs": [
        {
          "output_type": "execute_result",
          "data": {
            "text/plain": [
              "0      고려\n",
              "1      서울\n",
              "2      육사\n",
              "3     NaN\n",
              "4      고려\n",
              "5      서울\n",
              "6      육사\n",
              "7     NaN\n",
              "8      고려\n",
              "9      서울\n",
              "10     육사\n",
              "11    NaN\n",
              "dtype: object"
            ]
          },
          "metadata": {},
          "execution_count": 79
        }
      ]
    },
    {
      "cell_type": "code",
      "metadata": {
        "colab": {
          "base_uri": "https://localhost:8080/"
        },
        "id": "oTc-2QO6WJYw",
        "outputId": "94450f34-ebf7-4178-9743-e119dc703e03"
      },
      "source": [
        "s.map(lambda x:x**2)"
      ],
      "execution_count": 80,
      "outputs": [
        {
          "output_type": "execute_result",
          "data": {
            "text/plain": [
              "0     1.0\n",
              "1     4.0\n",
              "2     9.0\n",
              "3     NaN\n",
              "4     1.0\n",
              "5     4.0\n",
              "6     9.0\n",
              "7     NaN\n",
              "8     1.0\n",
              "9     4.0\n",
              "10    9.0\n",
              "11    NaN\n",
              "dtype: float64"
            ]
          },
          "metadata": {},
          "execution_count": 80
        }
      ]
    },
    {
      "cell_type": "code",
      "metadata": {
        "id": "Pn62Foh7W8_Q"
      },
      "source": [
        "#data frame"
      ],
      "execution_count": 81,
      "outputs": []
    },
    {
      "cell_type": "code",
      "metadata": {
        "id": "OhLO6__tYuyI"
      },
      "source": [
        "datas={\n",
        "    '이름':['조조','조운','주유'],\n",
        "    '통솔':[96,31,56],\n",
        "    '무력':[94,42,11]\n",
        "}"
      ],
      "execution_count": 133,
      "outputs": []
    },
    {
      "cell_type": "code",
      "metadata": {
        "colab": {
          "base_uri": "https://localhost:8080/"
        },
        "id": "4BOMbxdUY94I",
        "outputId": "6a75b697-0aca-45f3-a5a7-ef4f7ac807fc"
      },
      "source": [
        "type(datas)"
      ],
      "execution_count": 134,
      "outputs": [
        {
          "output_type": "execute_result",
          "data": {
            "text/plain": [
              "dict"
            ]
          },
          "metadata": {},
          "execution_count": 134
        }
      ]
    },
    {
      "cell_type": "code",
      "metadata": {
        "colab": {
          "base_uri": "https://localhost:8080/",
          "height": 142
        },
        "id": "tBBh7IIJY_d5",
        "outputId": "d3a71f38-4dfa-4e6a-ac4a-ac72b88bd40b"
      },
      "source": [
        "df=pd.DataFrame(datas)# df 라는 변수에 datas의 데이터를 가지고 데이터프레임을 만들어라 \n",
        "df"
      ],
      "execution_count": 135,
      "outputs": [
        {
          "output_type": "execute_result",
          "data": {
            "text/html": [
              "<div>\n",
              "<style scoped>\n",
              "    .dataframe tbody tr th:only-of-type {\n",
              "        vertical-align: middle;\n",
              "    }\n",
              "\n",
              "    .dataframe tbody tr th {\n",
              "        vertical-align: top;\n",
              "    }\n",
              "\n",
              "    .dataframe thead th {\n",
              "        text-align: right;\n",
              "    }\n",
              "</style>\n",
              "<table border=\"1\" class=\"dataframe\">\n",
              "  <thead>\n",
              "    <tr style=\"text-align: right;\">\n",
              "      <th></th>\n",
              "      <th>이름</th>\n",
              "      <th>통솔</th>\n",
              "      <th>무력</th>\n",
              "    </tr>\n",
              "  </thead>\n",
              "  <tbody>\n",
              "    <tr>\n",
              "      <th>0</th>\n",
              "      <td>조조</td>\n",
              "      <td>96</td>\n",
              "      <td>94</td>\n",
              "    </tr>\n",
              "    <tr>\n",
              "      <th>1</th>\n",
              "      <td>조운</td>\n",
              "      <td>31</td>\n",
              "      <td>42</td>\n",
              "    </tr>\n",
              "    <tr>\n",
              "      <th>2</th>\n",
              "      <td>주유</td>\n",
              "      <td>56</td>\n",
              "      <td>11</td>\n",
              "    </tr>\n",
              "  </tbody>\n",
              "</table>\n",
              "</div>"
            ],
            "text/plain": [
              "   이름  통솔  무력\n",
              "0  조조  96  94\n",
              "1  조운  31  42\n",
              "2  주유  56  11"
            ]
          },
          "metadata": {},
          "execution_count": 135
        }
      ]
    },
    {
      "cell_type": "code",
      "metadata": {
        "colab": {
          "base_uri": "https://localhost:8080/",
          "height": 295
        },
        "id": "XUasF-SYZJfw",
        "outputId": "d5c925d2-e28f-45df-ace3-7700724ad779"
      },
      "source": [
        "df.describe()"
      ],
      "execution_count": 136,
      "outputs": [
        {
          "output_type": "execute_result",
          "data": {
            "text/html": [
              "<div>\n",
              "<style scoped>\n",
              "    .dataframe tbody tr th:only-of-type {\n",
              "        vertical-align: middle;\n",
              "    }\n",
              "\n",
              "    .dataframe tbody tr th {\n",
              "        vertical-align: top;\n",
              "    }\n",
              "\n",
              "    .dataframe thead th {\n",
              "        text-align: right;\n",
              "    }\n",
              "</style>\n",
              "<table border=\"1\" class=\"dataframe\">\n",
              "  <thead>\n",
              "    <tr style=\"text-align: right;\">\n",
              "      <th></th>\n",
              "      <th>통솔</th>\n",
              "      <th>무력</th>\n",
              "    </tr>\n",
              "  </thead>\n",
              "  <tbody>\n",
              "    <tr>\n",
              "      <th>count</th>\n",
              "      <td>3.000000</td>\n",
              "      <td>3.000000</td>\n",
              "    </tr>\n",
              "    <tr>\n",
              "      <th>mean</th>\n",
              "      <td>61.000000</td>\n",
              "      <td>49.000000</td>\n",
              "    </tr>\n",
              "    <tr>\n",
              "      <th>std</th>\n",
              "      <td>32.787193</td>\n",
              "      <td>41.940434</td>\n",
              "    </tr>\n",
              "    <tr>\n",
              "      <th>min</th>\n",
              "      <td>31.000000</td>\n",
              "      <td>11.000000</td>\n",
              "    </tr>\n",
              "    <tr>\n",
              "      <th>25%</th>\n",
              "      <td>43.500000</td>\n",
              "      <td>26.500000</td>\n",
              "    </tr>\n",
              "    <tr>\n",
              "      <th>50%</th>\n",
              "      <td>56.000000</td>\n",
              "      <td>42.000000</td>\n",
              "    </tr>\n",
              "    <tr>\n",
              "      <th>75%</th>\n",
              "      <td>76.000000</td>\n",
              "      <td>68.000000</td>\n",
              "    </tr>\n",
              "    <tr>\n",
              "      <th>max</th>\n",
              "      <td>96.000000</td>\n",
              "      <td>94.000000</td>\n",
              "    </tr>\n",
              "  </tbody>\n",
              "</table>\n",
              "</div>"
            ],
            "text/plain": [
              "              통솔         무력\n",
              "count   3.000000   3.000000\n",
              "mean   61.000000  49.000000\n",
              "std    32.787193  41.940434\n",
              "min    31.000000  11.000000\n",
              "25%    43.500000  26.500000\n",
              "50%    56.000000  42.000000\n",
              "75%    76.000000  68.000000\n",
              "max    96.000000  94.000000"
            ]
          },
          "metadata": {},
          "execution_count": 136
        }
      ]
    },
    {
      "cell_type": "code",
      "metadata": {
        "id": "Nqie6eOPZWzH"
      },
      "source": [
        "df2=pd.DataFrame(datas,columns=['이름','무력'])"
      ],
      "execution_count": 137,
      "outputs": []
    },
    {
      "cell_type": "code",
      "metadata": {
        "colab": {
          "base_uri": "https://localhost:8080/",
          "height": 142
        },
        "id": "-XwM8HkoaB3R",
        "outputId": "072cbb5b-c93d-4521-a57e-39e540bbba36"
      },
      "source": [
        "df2"
      ],
      "execution_count": 138,
      "outputs": [
        {
          "output_type": "execute_result",
          "data": {
            "text/html": [
              "<div>\n",
              "<style scoped>\n",
              "    .dataframe tbody tr th:only-of-type {\n",
              "        vertical-align: middle;\n",
              "    }\n",
              "\n",
              "    .dataframe tbody tr th {\n",
              "        vertical-align: top;\n",
              "    }\n",
              "\n",
              "    .dataframe thead th {\n",
              "        text-align: right;\n",
              "    }\n",
              "</style>\n",
              "<table border=\"1\" class=\"dataframe\">\n",
              "  <thead>\n",
              "    <tr style=\"text-align: right;\">\n",
              "      <th></th>\n",
              "      <th>이름</th>\n",
              "      <th>무력</th>\n",
              "    </tr>\n",
              "  </thead>\n",
              "  <tbody>\n",
              "    <tr>\n",
              "      <th>0</th>\n",
              "      <td>조조</td>\n",
              "      <td>94</td>\n",
              "    </tr>\n",
              "    <tr>\n",
              "      <th>1</th>\n",
              "      <td>조운</td>\n",
              "      <td>42</td>\n",
              "    </tr>\n",
              "    <tr>\n",
              "      <th>2</th>\n",
              "      <td>주유</td>\n",
              "      <td>11</td>\n",
              "    </tr>\n",
              "  </tbody>\n",
              "</table>\n",
              "</div>"
            ],
            "text/plain": [
              "   이름  무력\n",
              "0  조조  94\n",
              "1  조운  42\n",
              "2  주유  11"
            ]
          },
          "metadata": {},
          "execution_count": 138
        }
      ]
    },
    {
      "cell_type": "code",
      "metadata": {
        "colab": {
          "base_uri": "https://localhost:8080/",
          "height": 142
        },
        "id": "_1OF8q4raG-n",
        "outputId": "03bdf9bf-cd36-4490-c9fc-aafdcc6ed144"
      },
      "source": [
        "pd.DataFrame(datas,columns=['이름','특수능력'])"
      ],
      "execution_count": 139,
      "outputs": [
        {
          "output_type": "execute_result",
          "data": {
            "text/html": [
              "<div>\n",
              "<style scoped>\n",
              "    .dataframe tbody tr th:only-of-type {\n",
              "        vertical-align: middle;\n",
              "    }\n",
              "\n",
              "    .dataframe tbody tr th {\n",
              "        vertical-align: top;\n",
              "    }\n",
              "\n",
              "    .dataframe thead th {\n",
              "        text-align: right;\n",
              "    }\n",
              "</style>\n",
              "<table border=\"1\" class=\"dataframe\">\n",
              "  <thead>\n",
              "    <tr style=\"text-align: right;\">\n",
              "      <th></th>\n",
              "      <th>이름</th>\n",
              "      <th>특수능력</th>\n",
              "    </tr>\n",
              "  </thead>\n",
              "  <tbody>\n",
              "    <tr>\n",
              "      <th>0</th>\n",
              "      <td>조조</td>\n",
              "      <td>NaN</td>\n",
              "    </tr>\n",
              "    <tr>\n",
              "      <th>1</th>\n",
              "      <td>조운</td>\n",
              "      <td>NaN</td>\n",
              "    </tr>\n",
              "    <tr>\n",
              "      <th>2</th>\n",
              "      <td>주유</td>\n",
              "      <td>NaN</td>\n",
              "    </tr>\n",
              "  </tbody>\n",
              "</table>\n",
              "</div>"
            ],
            "text/plain": [
              "   이름 특수능력\n",
              "0  조조  NaN\n",
              "1  조운  NaN\n",
              "2  주유  NaN"
            ]
          },
          "metadata": {},
          "execution_count": 139
        }
      ]
    },
    {
      "cell_type": "code",
      "metadata": {
        "colab": {
          "base_uri": "https://localhost:8080/",
          "height": 35
        },
        "id": "ohLoMtMKfRXG",
        "outputId": "eb97c330-9fa8-41f0-b208-5ba76702793f"
      },
      "source": [
        "df.iloc[0,0]"
      ],
      "execution_count": 140,
      "outputs": [
        {
          "output_type": "execute_result",
          "data": {
            "application/vnd.google.colaboratory.intrinsic+json": {
              "type": "string"
            },
            "text/plain": [
              "'조조'"
            ]
          },
          "metadata": {},
          "execution_count": 140
        }
      ]
    },
    {
      "cell_type": "code",
      "metadata": {
        "colab": {
          "base_uri": "https://localhost:8080/",
          "height": 142
        },
        "id": "n5c-MyFlgNfx",
        "outputId": "938d8a27-270d-484c-c938-504e05240b6b"
      },
      "source": [
        "df"
      ],
      "execution_count": 141,
      "outputs": [
        {
          "output_type": "execute_result",
          "data": {
            "text/html": [
              "<div>\n",
              "<style scoped>\n",
              "    .dataframe tbody tr th:only-of-type {\n",
              "        vertical-align: middle;\n",
              "    }\n",
              "\n",
              "    .dataframe tbody tr th {\n",
              "        vertical-align: top;\n",
              "    }\n",
              "\n",
              "    .dataframe thead th {\n",
              "        text-align: right;\n",
              "    }\n",
              "</style>\n",
              "<table border=\"1\" class=\"dataframe\">\n",
              "  <thead>\n",
              "    <tr style=\"text-align: right;\">\n",
              "      <th></th>\n",
              "      <th>이름</th>\n",
              "      <th>통솔</th>\n",
              "      <th>무력</th>\n",
              "    </tr>\n",
              "  </thead>\n",
              "  <tbody>\n",
              "    <tr>\n",
              "      <th>0</th>\n",
              "      <td>조조</td>\n",
              "      <td>96</td>\n",
              "      <td>94</td>\n",
              "    </tr>\n",
              "    <tr>\n",
              "      <th>1</th>\n",
              "      <td>조운</td>\n",
              "      <td>31</td>\n",
              "      <td>42</td>\n",
              "    </tr>\n",
              "    <tr>\n",
              "      <th>2</th>\n",
              "      <td>주유</td>\n",
              "      <td>56</td>\n",
              "      <td>11</td>\n",
              "    </tr>\n",
              "  </tbody>\n",
              "</table>\n",
              "</div>"
            ],
            "text/plain": [
              "   이름  통솔  무력\n",
              "0  조조  96  94\n",
              "1  조운  31  42\n",
              "2  주유  56  11"
            ]
          },
          "metadata": {},
          "execution_count": 141
        }
      ]
    },
    {
      "cell_type": "code",
      "metadata": {
        "colab": {
          "base_uri": "https://localhost:8080/",
          "height": 80
        },
        "id": "s5S_6NKYgSQk",
        "outputId": "8949364e-89a2-4167-ca34-6ac41f8d8c53"
      },
      "source": [
        "df[df['통솔']>94] # 조건 "
      ],
      "execution_count": 142,
      "outputs": [
        {
          "output_type": "execute_result",
          "data": {
            "text/html": [
              "<div>\n",
              "<style scoped>\n",
              "    .dataframe tbody tr th:only-of-type {\n",
              "        vertical-align: middle;\n",
              "    }\n",
              "\n",
              "    .dataframe tbody tr th {\n",
              "        vertical-align: top;\n",
              "    }\n",
              "\n",
              "    .dataframe thead th {\n",
              "        text-align: right;\n",
              "    }\n",
              "</style>\n",
              "<table border=\"1\" class=\"dataframe\">\n",
              "  <thead>\n",
              "    <tr style=\"text-align: right;\">\n",
              "      <th></th>\n",
              "      <th>이름</th>\n",
              "      <th>통솔</th>\n",
              "      <th>무력</th>\n",
              "    </tr>\n",
              "  </thead>\n",
              "  <tbody>\n",
              "    <tr>\n",
              "      <th>0</th>\n",
              "      <td>조조</td>\n",
              "      <td>96</td>\n",
              "      <td>94</td>\n",
              "    </tr>\n",
              "  </tbody>\n",
              "</table>\n",
              "</div>"
            ],
            "text/plain": [
              "   이름  통솔  무력\n",
              "0  조조  96  94"
            ]
          },
          "metadata": {},
          "execution_count": 142
        }
      ]
    },
    {
      "cell_type": "code",
      "metadata": {
        "colab": {
          "base_uri": "https://localhost:8080/",
          "height": 49
        },
        "id": "qzyLsW6Kg4Bh",
        "outputId": "5d78a753-8923-4ec5-b0c0-01e7a5fbed3f"
      },
      "source": [
        "condition1= df ['통솔']>96\n",
        "condition2= df['이름']=='주유'\n",
        "df[condition1&condition2]# 두개의 조건 만족 "
      ],
      "execution_count": 143,
      "outputs": [
        {
          "output_type": "execute_result",
          "data": {
            "text/html": [
              "<div>\n",
              "<style scoped>\n",
              "    .dataframe tbody tr th:only-of-type {\n",
              "        vertical-align: middle;\n",
              "    }\n",
              "\n",
              "    .dataframe tbody tr th {\n",
              "        vertical-align: top;\n",
              "    }\n",
              "\n",
              "    .dataframe thead th {\n",
              "        text-align: right;\n",
              "    }\n",
              "</style>\n",
              "<table border=\"1\" class=\"dataframe\">\n",
              "  <thead>\n",
              "    <tr style=\"text-align: right;\">\n",
              "      <th></th>\n",
              "      <th>이름</th>\n",
              "      <th>통솔</th>\n",
              "      <th>무력</th>\n",
              "    </tr>\n",
              "  </thead>\n",
              "  <tbody>\n",
              "  </tbody>\n",
              "</table>\n",
              "</div>"
            ],
            "text/plain": [
              "Empty DataFrame\n",
              "Columns: [이름, 통솔, 무력]\n",
              "Index: []"
            ]
          },
          "metadata": {},
          "execution_count": 143
        }
      ]
    },
    {
      "cell_type": "code",
      "metadata": {
        "colab": {
          "base_uri": "https://localhost:8080/"
        },
        "id": "JMO1XnFmkF95",
        "outputId": "dc38d571-70f0-4152-dc82-9be2dcbda3f5"
      },
      "source": [
        "condition2"
      ],
      "execution_count": 144,
      "outputs": [
        {
          "output_type": "execute_result",
          "data": {
            "text/plain": [
              "0    False\n",
              "1    False\n",
              "2     True\n",
              "Name: 이름, dtype: bool"
            ]
          },
          "metadata": {},
          "execution_count": 144
        }
      ]
    },
    {
      "cell_type": "code",
      "metadata": {
        "colab": {
          "base_uri": "https://localhost:8080/",
          "height": 110
        },
        "id": "ZmjQyB6vl2fZ",
        "outputId": "c4686858-1bbb-4e7e-c9ed-5cb26e14804b"
      },
      "source": [
        "condition1= df ['통솔']>=96\n",
        "condition2= df['이름']=='주유'\n",
        "df[condition1|condition2]"
      ],
      "execution_count": 149,
      "outputs": [
        {
          "output_type": "execute_result",
          "data": {
            "text/html": [
              "<div>\n",
              "<style scoped>\n",
              "    .dataframe tbody tr th:only-of-type {\n",
              "        vertical-align: middle;\n",
              "    }\n",
              "\n",
              "    .dataframe tbody tr th {\n",
              "        vertical-align: top;\n",
              "    }\n",
              "\n",
              "    .dataframe thead th {\n",
              "        text-align: right;\n",
              "    }\n",
              "</style>\n",
              "<table border=\"1\" class=\"dataframe\">\n",
              "  <thead>\n",
              "    <tr style=\"text-align: right;\">\n",
              "      <th></th>\n",
              "      <th>이름</th>\n",
              "      <th>통솔</th>\n",
              "      <th>무력</th>\n",
              "    </tr>\n",
              "  </thead>\n",
              "  <tbody>\n",
              "    <tr>\n",
              "      <th>0</th>\n",
              "      <td>조조</td>\n",
              "      <td>96</td>\n",
              "      <td>94</td>\n",
              "    </tr>\n",
              "    <tr>\n",
              "      <th>2</th>\n",
              "      <td>주유</td>\n",
              "      <td>56</td>\n",
              "      <td>11</td>\n",
              "    </tr>\n",
              "  </tbody>\n",
              "</table>\n",
              "</div>"
            ],
            "text/plain": [
              "   이름  통솔  무력\n",
              "0  조조  96  94\n",
              "2  주유  56  11"
            ]
          },
          "metadata": {},
          "execution_count": 149
        }
      ]
    },
    {
      "cell_type": "code",
      "metadata": {
        "colab": {
          "base_uri": "https://localhost:8080/"
        },
        "id": "xTrCU0cpl98m",
        "outputId": "20f12d84-2f9d-40b8-81c7-1a9601f71e7c"
      },
      "source": [
        "df.index"
      ],
      "execution_count": 150,
      "outputs": [
        {
          "output_type": "execute_result",
          "data": {
            "text/plain": [
              "RangeIndex(start=0, stop=3, step=1)"
            ]
          },
          "metadata": {},
          "execution_count": 150
        }
      ]
    },
    {
      "cell_type": "code",
      "metadata": {
        "colab": {
          "base_uri": "https://localhost:8080/"
        },
        "id": "7ntblYUhnD2f",
        "outputId": "c783ef62-1b5a-4c16-9b3b-b6381664d6cd"
      },
      "source": [
        "df.values"
      ],
      "execution_count": 151,
      "outputs": [
        {
          "output_type": "execute_result",
          "data": {
            "text/plain": [
              "array([['조조', 96, 94],\n",
              "       ['조운', 31, 42],\n",
              "       ['주유', 56, 11]], dtype=object)"
            ]
          },
          "metadata": {},
          "execution_count": 151
        }
      ]
    },
    {
      "cell_type": "code",
      "metadata": {
        "id": "dM4ebkqvnL3f"
      },
      "source": [
        ""
      ],
      "execution_count": null,
      "outputs": []
    }
  ]
}